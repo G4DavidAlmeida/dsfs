{
 "cells": [
  {
   "cell_type": "code",
   "execution_count": 41,
   "metadata": {},
   "outputs": [],
   "source": [
    "import math\n",
    "from typing import Tuple\n",
    "\n",
    "\n",
    "def normal_approximation_to_binomimal(n: int, p: float) -> Tuple[float, float]:\n",
    "    \"\"\"\n",
    "    Calculates the mean (mu) and standard deviation (sigma) of a binomial distribution\n",
    "    approximated by a normal distribution.\n",
    "    This function takes the number of trials (n) and the probability of success (p) \n",
    "    in a binomial distribution and returns the parameters of the corresponding normal \n",
    "    distribution approximation.\n",
    "    Args:\n",
    "        n (int): The number of trials in the binomial distribution.\n",
    "        p (float): The probability of success in each trial.\n",
    "    Returns:\n",
    "        Tuple[float, float]: A tuple containing:\n",
    "            - mu (float): The mean of the approximated normal distribution.\n",
    "            - sigma (float): The standard deviation of the approximated normal distribution.\n",
    "    Detailed Explanation:\n",
    "        In a binomial distribution, the mean (mu) is calculated as the product of the \n",
    "        number of trials (n) and the probability of success (p). The standard deviation \n",
    "        (sigma) is calculated as the square root of the product of the number of trials (n), \n",
    "        the probability of success (p), and the probability of failure (1 - p). This function \n",
    "        uses these formulas to approximate the binomial distribution with a normal distribution.\n",
    "    \"\"\"\n",
    "\n",
    "    mu = p * n\n",
    "    sigma = math.sqrt(p * (1 - p) * n)\n",
    "    return mu, sigma"
   ]
  },
  {
   "cell_type": "code",
   "execution_count": 42,
   "metadata": {},
   "outputs": [],
   "source": [
    "from scratch.probability import normal_cdf\n",
    "\n",
    "# The normal cdf _is_ the probability the variable is below a threshold\n",
    "normal_probability_below = normal_cdf\n",
    "\n",
    "# It's above the threshold if it's not below the threshold\n",
    "\n",
    "\n",
    "def normal_probability_above(lo: float, mu: float = 0, sigma: float = 1) -> float:\n",
    "    \"\"\"\n",
    "    Calculates the probability that a value from a normal distribution is above a given threshold.\n",
    "    This function computes the probability that a value drawn from a normal distribution with \n",
    "    mean `mu` and standard deviation `sigma` is greater than the specified lower bound `lo`.\n",
    "    Parameters:\n",
    "    -----------\n",
    "    lo : float\n",
    "        The lower bound threshold value.\n",
    "    mu : float, optional\n",
    "        The mean of the normal distribution (default is 0).\n",
    "    sigma : float, optional\n",
    "        The standard deviation of the normal distribution (default is 1).\n",
    "    Returns:\n",
    "    --------\n",
    "    float\n",
    "        The probability that a value from the specified normal distribution is greater than `lo`.\n",
    "    Detailed Explanation:\n",
    "    ---------------------\n",
    "    The function uses the cumulative distribution function (CDF) of the normal distribution to \n",
    "    calculate the probability that a value is less than or equal to `lo`. Since the total probability \n",
    "    is 1, the probability that a value is greater than `lo` is given by `1 - CDF(lo)`.\n",
    "    \"\"\"\n",
    "\n",
    "    return 1 - normal_cdf(lo, mu, sigma)\n",
    "\n",
    "# It's between if it's less than hi, but not less than lo\n",
    "\n",
    "\n",
    "def normal_probability_between(lo: float, hi: float, mu: float = 0, sigma: float = 1) -> float:\n",
    "    \"\"\"\n",
    "    Calculates the probability that a normally distributed random variable falls between two values.\n",
    "    This function computes the probability that a value from a normal distribution with mean `mu` and \n",
    "    standard deviation `sigma` lies between `lo` and `hi`.\n",
    "    Parameters:\n",
    "    lo (float): The lower bound of the interval.\n",
    "    hi (float): The upper bound of the interval.\n",
    "    mu (float, optional): The mean of the normal distribution. Default is 0.\n",
    "    sigma (float, optional): The standard deviation of the normal distribution. Default is 1.\n",
    "    Returns:\n",
    "    float: The probability that a value from the specified normal distribution falls between `lo` and `hi`.\n",
    "    Detailed Explanation:\n",
    "    The function uses the cumulative distribution function (CDF) of the normal distribution to calculate \n",
    "    the probability. The CDF, `normal_cdf`, gives the probability that a normally distributed random variable \n",
    "    is less than or equal to a given value. By subtracting the CDF value at `lo` from the CDF value at `hi`, \n",
    "    the function determines the probability that the random variable falls within the interval `[lo, hi]`.\n",
    "    \"\"\"\n",
    "\n",
    "    return normal_cdf(hi, mu, sigma) - normal_cdf(lo, mu, sigma)\n",
    "\n",
    "# It's outside if it's not between\n",
    "\n",
    "\n",
    "def normal_probability_outside(lo: float, hi: float, mu: float = 0, sigma: float = 1) -> float:\n",
    "    \"\"\"\n",
    "    Calculate the probability that a normally distributed random variable falls outside the interval [lo, hi].\n",
    "    This function computes the probability that a value drawn from a normal distribution with mean `mu` and standard deviation `sigma` lies outside the range defined by `lo` and `hi`.\n",
    "    Parameters:\n",
    "    lo (float): The lower bound of the interval.\n",
    "    hi (float): The upper bound of the interval.\n",
    "    mu (float, optional): The mean of the normal distribution. Default is 0.\n",
    "    sigma (float, optional): The standard deviation of the normal distribution. Default is 1.\n",
    "    Returns:\n",
    "    float: The probability that a value lies outside the interval [lo, hi].\n",
    "    Detailed Explanation:\n",
    "    The function calculates the probability that a normally distributed random variable with specified mean (`mu`) and standard deviation (`sigma`) falls outside the interval [lo, hi]. It does this by subtracting the probability that the variable falls within the interval from 1. This is useful in statistical hypothesis testing and other applications where the likelihood of extreme values is of interest.\n",
    "    \"\"\"\n",
    "\n",
    "    return 1 - normal_probability_between(lo, hi, mu, sigma)"
   ]
  },
  {
   "cell_type": "code",
   "execution_count": 43,
   "metadata": {},
   "outputs": [],
   "source": [
    "from scratch.probability import inverse_normal_cdf\n",
    "\n",
    "\n",
    "def normal_upper_bound(probability: float, mu: float = 0, sigma: float = 1) -> float:\n",
    "    \"\"\"\n",
    "    Calculates the upper bound of a normal distribution for a given probability.\n",
    "    This function computes the value below which a given percentage (probability) \n",
    "    of the data in a normal distribution falls. It uses the inverse cumulative \n",
    "    distribution function (inverse CDF) to determine this value.\n",
    "    Parameters:\n",
    "    - probability (float): The probability threshold (between 0 and 1) for which \n",
    "      the upper bound is calculated. For example, a probability of 0.95 means \n",
    "      that 95% of the data falls below the calculated upper bound.\n",
    "    - mu (float, optional): The mean (average) of the normal distribution. \n",
    "      Default is 0.\n",
    "    - sigma (float, optional): The standard deviation of the normal distribution. \n",
    "      Default is 1.\n",
    "    Returns:\n",
    "    - float: The upper bound value of the normal distribution for the given \n",
    "      probability.\n",
    "    Example:\n",
    "    If you want to find the value below which 95% of the data in a standard \n",
    "    normal distribution (mean = 0, standard deviation = 1) falls, you would call:\n",
    "    normal_upper_bound(0.95)\n",
    "    \"\"\"\n",
    "\n",
    "    return inverse_normal_cdf(probability, mu, sigma)\n",
    "\n",
    "\n",
    "def normal_lower_bound(probability: float, mu: float = 0, sigma: float = 1) -> float:\n",
    "    \"\"\"\n",
    "    Calculates the lower bound of a normal distribution for a given probability.\n",
    "    This function computes the value below which a given percentage (probability) \n",
    "    of the data in a normal distribution falls. It uses the inverse cumulative \n",
    "    distribution function (inverse CDF) to find this value.\n",
    "    Parameters:\n",
    "    -----------\n",
    "    probability : float\n",
    "        The probability (between 0 and 1) for which the lower bound is calculated. \n",
    "        This represents the area under the normal distribution curve to the left \n",
    "        of the returned value.\n",
    "    mu : float, optional\n",
    "        The mean (average) of the normal distribution. Default is 0.\n",
    "    sigma : float, optional\n",
    "        The standard deviation of the normal distribution. Default is 1.\n",
    "    Returns:\n",
    "    --------\n",
    "    float\n",
    "        The lower bound value of the normal distribution for the given probability.\n",
    "    Example:\n",
    "    --------\n",
    "    If you want to find the value below which 5% of the data in a standard normal \n",
    "    distribution (mean=0, standard deviation=1) falls, you would call:\n",
    "    normal_lower_bound(0.05)\n",
    "    \"\"\"\n",
    "\n",
    "    return inverse_normal_cdf(1 - probability, mu, sigma)\n",
    "\n",
    "\n",
    "def normal_two_sided_bounds(probability: float, mu: float = 0, sigma: float = 1) -> Tuple[float, float]:\n",
    "    \"\"\"\n",
    "    Calculate the two-sided bounds for a normal distribution given a probability.\n",
    "    This function computes the lower and upper bounds of a normal distribution\n",
    "    such that the specified probability lies within these bounds. The bounds are\n",
    "    symmetric around the mean (mu).\n",
    "    Parameters:\n",
    "    -----------\n",
    "    probability : float\n",
    "        The probability that the true value lies within the calculated bounds.\n",
    "        This should be a value between 0 and 1.\n",
    "    mu : float, optional\n",
    "        The mean of the normal distribution. Default is 0.\n",
    "    sigma : float, optional\n",
    "        The standard deviation of the normal distribution. Default is 1.\n",
    "    Returns:\n",
    "    --------\n",
    "    Tuple[float, float]\n",
    "        A tuple containing the lower and upper bounds of the normal distribution\n",
    "        for the given probability.\n",
    "    Detailed Explanation:\n",
    "    ---------------------\n",
    "    The function calculates the tail probability as (1 - probability) / 2. This\n",
    "    tail probability is then used to determine the upper and lower bounds of the\n",
    "    normal distribution. The upper bound is calculated such that the tail probability\n",
    "    lies above it, and the lower bound is calculated such that the tail probability\n",
    "    lies below it. The function returns these bounds as a tuple.\n",
    "    \"\"\"\n",
    "\n",
    "    tail_probability = (1 - probability) / 2\n",
    "\n",
    "    # The upper bound should have tail_probability above it\n",
    "    upper_bound = normal_lower_bound(tail_probability, mu, sigma)\n",
    "\n",
    "    # The lower bound should have tail_probability below it\n",
    "    lower_bound = normal_upper_bound(tail_probability, mu, sigma)\n",
    "\n",
    "    return lower_bound, upper_bound"
   ]
  },
  {
   "cell_type": "code",
   "execution_count": 44,
   "metadata": {},
   "outputs": [
    {
     "data": {
      "text/plain": [
       "(500.0, 15.811388300841896)"
      ]
     },
     "execution_count": 44,
     "metadata": {},
     "output_type": "execute_result"
    }
   ],
   "source": [
    "mu_0, sigma_0 = normal_approximation_to_binomimal(1000, 0.5)\n",
    "mu_0, sigma_0"
   ]
  },
  {
   "cell_type": "code",
   "execution_count": 45,
   "metadata": {},
   "outputs": [
    {
     "data": {
      "text/plain": [
       "(469.01026640487555, 530.9897335951244)"
      ]
     },
     "execution_count": 45,
     "metadata": {},
     "output_type": "execute_result"
    }
   ],
   "source": [
    "lower_bound, upper_bound = normal_two_sided_bounds(0.95, mu_0, sigma_0)\n",
    "lower_bound, upper_bound"
   ]
  },
  {
   "cell_type": "code",
   "execution_count": 46,
   "metadata": {},
   "outputs": [],
   "source": [
    "# 95% bounds based on assumption p is 0.5\n",
    "lo, hi = normal_two_sided_bounds(0.95, mu_0, sigma_0)\n",
    "\n",
    "# Actual mu and sigma based on p = 0.55\n",
    "mu_1, sigma_1 = normal_approximation_to_binomimal(1000, 0.55)\n",
    "\n",
    "# A type 2 error means we fail to reject the null hypothesis\n",
    "# which will happen when X is still in our original interval\n",
    "type_2_probability = normal_probability_between(lo, hi, mu_1, sigma_1)\n",
    "power = 1 - type_2_probability  # 0.887"
   ]
  },
  {
   "cell_type": "code",
   "execution_count": 47,
   "metadata": {},
   "outputs": [],
   "source": [
    "hi = normal_upper_bound(0.95, mu_0, sigma_0)\n",
    "# is 526 (< 531, since we need more probability in the upper tail)\n",
    "\n",
    "type_2_probability = normal_probability_below(hi, mu_1, sigma_1)\n",
    "power = 1 - type_2_probability  # 0.936"
   ]
  },
  {
   "cell_type": "code",
   "execution_count": 48,
   "metadata": {},
   "outputs": [],
   "source": [
    "def two_side_p_value(x: float, mu: float = 0, sigma: float = 1) -> float:\n",
    "    \"\"\"\n",
    "    Calculate the two-sided p-value for a given value in a normal distribution.\n",
    "    This function calculates the two-sided p-value for a given value in a normal \n",
    "    distribution with the specified mean and standard deviation. The p-value is \n",
    "    the probability that a random variable from the distribution is at least as \n",
    "    extreme as the given value (in both tails).\n",
    "    Parameters:\n",
    "    -----------\n",
    "    x : float\n",
    "        The value for which the p-value is calculated.\n",
    "    mu : float, optional\n",
    "        The mean of the normal distribution. Default is 0.\n",
    "    sigma : float, optional\n",
    "        The standard deviation of the normal distribution. Default is 1.\n",
    "    Returns:\n",
    "    --------\n",
    "    float\n",
    "        The two-sided p-value for the given value in the normal distribution.\n",
    "    \"\"\"\n",
    "\n",
    "    if x >= mu:\n",
    "        # x is greater than the mean, so the tail is everything greater than x\n",
    "        return 2 * normal_probability_above(x, mu, sigma)\n",
    "    else:\n",
    "        # x is less than the mean, so the tail is everything less than x\n",
    "        return 2 * normal_probability_below(x, mu, sigma)"
   ]
  },
  {
   "cell_type": "code",
   "execution_count": 49,
   "metadata": {},
   "outputs": [
    {
     "data": {
      "text/plain": [
       "0.06207721579598835"
      ]
     },
     "execution_count": 49,
     "metadata": {},
     "output_type": "execute_result"
    }
   ],
   "source": [
    "two_side_p_value(529.5, mu_0, sigma_0)  # 0.062"
   ]
  },
  {
   "cell_type": "code",
   "execution_count": 51,
   "metadata": {},
   "outputs": [],
   "source": [
    "import random\n",
    "\n",
    "extreme_value_count = 0\n",
    "for _ in range(1000):\n",
    "    num_heads = sum(1 if random.random() < 0.5 else 0 for _ in range(1000))\n",
    "    if num_heads >= 530 or num_heads <= 470:\n",
    "        extreme_value_count += 1\n",
    "\n",
    "# p-value was 0.062 => ~62 extreme values out of 1000\n",
    "assert 59 < extreme_value_count < 65, f\"{extreme_value_count}\""
   ]
  },
  {
   "cell_type": "code",
   "execution_count": 52,
   "metadata": {},
   "outputs": [
    {
     "data": {
      "text/plain": [
       "0.046345287837786575"
      ]
     },
     "execution_count": 52,
     "metadata": {},
     "output_type": "execute_result"
    }
   ],
   "source": [
    "two_side_p_value(531.5, mu_0, sigma_0)  # 0.0463"
   ]
  },
  {
   "cell_type": "code",
   "execution_count": 53,
   "metadata": {},
   "outputs": [],
   "source": [
    "upper_p_value = normal_probability_above\n",
    "lower_p_value = normal_probability_below"
   ]
  },
  {
   "cell_type": "code",
   "execution_count": 54,
   "metadata": {},
   "outputs": [
    {
     "data": {
      "text/plain": [
       "0.06062885772582072"
      ]
     },
     "execution_count": 54,
     "metadata": {},
     "output_type": "execute_result"
    }
   ],
   "source": [
    "upper_p_value(524.5, mu_0, sigma_0)  # 0.061"
   ]
  },
  {
   "cell_type": "code",
   "execution_count": 55,
   "metadata": {},
   "outputs": [
    {
     "data": {
      "text/plain": [
       "0.04686839508859242"
      ]
     },
     "execution_count": 55,
     "metadata": {},
     "output_type": "execute_result"
    }
   ],
   "source": [
    "upper_p_value(526.5, mu_0, sigma_0)  # 0.047"
   ]
  },
  {
   "cell_type": "code",
   "execution_count": 56,
   "metadata": {},
   "outputs": [],
   "source": [
    "p_hat = 525 / 1000\n",
    "mu = p_hat\n",
    "sigma = math.sqrt(p_hat * (1 - p_hat) / 1000)  # 0.0158"
   ]
  },
  {
   "cell_type": "code",
   "execution_count": 57,
   "metadata": {},
   "outputs": [
    {
     "data": {
      "text/plain": [
       "(0.4940490278129096, 0.5559509721870904)"
      ]
     },
     "execution_count": 57,
     "metadata": {},
     "output_type": "execute_result"
    }
   ],
   "source": [
    "normal_two_sided_bounds(0.95, mu, sigma)  # [0.4940, 0.5560]"
   ]
  },
  {
   "cell_type": "code",
   "execution_count": 58,
   "metadata": {},
   "outputs": [
    {
     "data": {
      "text/plain": [
       "(0.5091095927295919, 0.5708904072704082)"
      ]
     },
     "execution_count": 58,
     "metadata": {},
     "output_type": "execute_result"
    }
   ],
   "source": [
    "p_hat = 540 / 1000\n",
    "mu = p_hat\n",
    "sigma = math.sqrt(p_hat * (1 - p_hat) / 1000)  # 0.0158\n",
    "normal_two_sided_bounds(0.95, mu, sigma)  # [0.5091, 0.5709]"
   ]
  },
  {
   "cell_type": "code",
   "execution_count": null,
   "metadata": {},
   "outputs": [],
   "source": [
    "from typing import List\n",
    "\n",
    "\n",
    "def run_experiment() -> List[bool]:\n",
    "    \"\"\"\n",
    "    Simulate the results of a coin-flipping experiment.\n",
    "    This function simulates the results of flipping a fair coin 1000 times.\n",
    "    It returns a list of boolean values, where `True` represents a \"heads\" result\n",
    "    and `False` represents a \"tails\" result.\n",
    "    Returns:\n",
    "    --------\n",
    "    List[bool]: A list of boolean values representing the results of the coin flips.\n",
    "    \"\"\"\n",
    "\n",
    "    return [random.random() < 0.5 for _ in range(1000)]\n",
    "\n",
    "\n",
    "def reject_fairness(experiment: List[bool]) -> bool:\n",
    "    \"\"\"\n",
    "    Determine if the coin used in the experiment is fair.\n",
    "    This function performs a hypothesis test to determine if the coin used in the\n",
    "    experiment is fair. It uses a two-sided p-value test to check if the number of\n",
    "    \"heads\" in the experiment is significantly different from the expected number\n",
    "    for a fair coin.\n",
    "    Parameters:\n",
    "    -----------\n",
    "    experiment : List[bool]\n",
    "        A list of boolean values representing the results of the coin flips.\n",
    "    Returns:\n",
    "    --------\n",
    "    bool:\n",
    "        `True` if the null hypothesis of fairness is rejected, `False` otherwise.\n",
    "    \"\"\"\n",
    "\n",
    "    num_heads = len([flip for flip in experiment if flip])\n",
    "    return num_heads < 469 or num_heads > 531"
   ]
  },
  {
   "cell_type": "code",
   "execution_count": null,
   "metadata": {},
   "outputs": [],
   "source": [
    "random.seed(0)\n",
    "experiments = [run_experiment() for _ in range(1000)]\n",
    "num_rejections = len(\n",
    "    [experiment for experiment in experiments if reject_fairness(experiment)])\n",
    "assert num_rejections == 46, f'{num_rejections} is not 46'"
   ]
  },
  {
   "cell_type": "code",
   "execution_count": 71,
   "metadata": {},
   "outputs": [],
   "source": [
    "def estimated_parameters(N: int, n: int) -> Tuple[float, float]:\n",
    "    \"\"\"\n",
    "    Calculate the estimated parameters for a binomial distribution.\n",
    "    This function calculates the estimated parameters for a binomial distribution\n",
    "    based on the number of trials and the number of successes.\n",
    "    Parameters:\n",
    "    -----------\n",
    "    N : int\n",
    "        The total number of trials.\n",
    "    n : int\n",
    "        The number of successful trials.\n",
    "    Returns:\n",
    "    --------\n",
    "    Tuple[float, float]:\n",
    "        A tuple containing the estimated parameters:\n",
    "        - p: The estimated probability of success.\n",
    "        - sigma: The standard deviation of the estimated probability.\n",
    "    \"\"\"\n",
    "\n",
    "    p = n / N\n",
    "    sigma = math.sqrt(p * (1 - p) / N)\n",
    "    return p, sigma"
   ]
  },
  {
   "cell_type": "code",
   "execution_count": 72,
   "metadata": {},
   "outputs": [],
   "source": [
    "def a_b_test_statistic(N_A: int, n_A: int, N_B: int, n_B: int) -> float:\n",
    "    \"\"\"\n",
    "    Calculate the z-score for an A/B test.\n",
    "    This function calculates the z-score for an A/B test based on the number of trials\n",
    "    and successes in two groups, A and B.\n",
    "    Parameters:\n",
    "    -----------\n",
    "    N_A : int\n",
    "        The total number of trials in group A.\n",
    "    n_A : int\n",
    "        The number of successful trials in group A.\n",
    "    N_B : int\n",
    "        The total number of trials in group B.\n",
    "    n_B : int\n",
    "        The number of successful trials in group B.\n",
    "    Returns:\n",
    "    --------\n",
    "    float:\n",
    "        The z-score for the A/B test.\n",
    "    \"\"\"\n",
    "\n",
    "    p_A, sigma_A = estimated_parameters(N_A, n_A)\n",
    "    p_B, sigma_B = estimated_parameters(N_B, n_B)\n",
    "    return (p_B - p_A) / math.sqrt(sigma_A**2 + sigma_B**2)"
   ]
  },
  {
   "cell_type": "code",
   "execution_count": null,
   "metadata": {},
   "outputs": [
    {
     "data": {
      "text/plain": [
       "-1.1403464899034472"
      ]
     },
     "execution_count": 74,
     "metadata": {},
     "output_type": "execute_result"
    }
   ],
   "source": [
    "z = a_b_test_statistic(1000, 200, 1000, 180)  # -1.14\n",
    "z"
   ]
  },
  {
   "cell_type": "code",
   "execution_count": null,
   "metadata": {},
   "outputs": [
    {
     "data": {
      "text/plain": [
       "0.2541419765422359"
      ]
     },
     "execution_count": 75,
     "metadata": {},
     "output_type": "execute_result"
    }
   ],
   "source": [
    "two_side_p_value(z)  # 0.254"
   ]
  },
  {
   "cell_type": "code",
   "execution_count": null,
   "metadata": {},
   "outputs": [
    {
     "data": {
      "text/plain": [
       "0.003189699706216853"
      ]
     },
     "execution_count": 76,
     "metadata": {},
     "output_type": "execute_result"
    }
   ],
   "source": [
    "z = a_b_test_statistic(1000, 200, 1000, 150)  # -2.94\n",
    "two_side_p_value(z)  # 0.003"
   ]
  },
  {
   "cell_type": "code",
   "execution_count": null,
   "metadata": {},
   "outputs": [],
   "source": [
    "def B(alpha: float, beta: float) -> float:\n",
    "    \"\"\"\n",
    "    Calculate the normalizing constant for a beta distribution.\n",
    "    This function calculates the normalizing constant for a beta distribution\n",
    "    with parameters `alpha` and `beta`. The normalizing constant ensures that\n",
    "    the probability density function integrates to 1.\n",
    "    Parameters:\n",
    "    -----------\n",
    "    alpha : float\n",
    "        The alpha parameter of the beta distribution.\n",
    "    beta : float\n",
    "        The beta parameter of the beta distribution.\n",
    "    Returns:\n",
    "    --------\n",
    "    float:\n",
    "        The normalizing constant for the beta distribution.\n",
    "    \"\"\"\n",
    "\n",
    "    return math.gamma(alpha) * math.gamma(beta) / math.gamma(alpha + beta)\n",
    "\n",
    "\n",
    "def beta_pdf(x: float, alpha: float, beta: float) -> float:\n",
    "    \"\"\"\n",
    "    Calculate the probability density function of a beta distribution.\n",
    "    This function calculates the probability density function (PDF) of a beta\n",
    "    distribution at a given value `x`, with parameters `alpha` and `beta`.\n",
    "    Parameters:\n",
    "    -----------\n",
    "    x : float\n",
    "        The value at which to calculate the PDF.\n",
    "    alpha : float\n",
    "        The alpha parameter of the beta distribution.\n",
    "    beta : float\n",
    "        The beta parameter of the beta distribution.\n",
    "    Returns:\n",
    "    --------\n",
    "    float:\n",
    "        The PDF of the beta distribution at the given value `x`.\n",
    "    \"\"\"\n",
    "\n",
    "    if x < 0 or x > 1:\n",
    "        return 0\n",
    "    return x**(alpha - 1) * (1 - x)**(beta - 1) / B(alpha, beta)"
   ]
  }
 ],
 "metadata": {
  "kernelspec": {
   "display_name": "data_science_from_scratch",
   "language": "python",
   "name": "python3"
  },
  "language_info": {
   "codemirror_mode": {
    "name": "ipython",
    "version": 3
   },
   "file_extension": ".py",
   "mimetype": "text/x-python",
   "name": "python",
   "nbconvert_exporter": "python",
   "pygments_lexer": "ipython3",
   "version": "3.13.0"
  }
 },
 "nbformat": 4,
 "nbformat_minor": 2
}
