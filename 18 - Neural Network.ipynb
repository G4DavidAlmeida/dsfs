{
 "cells": [
  {
   "cell_type": "code",
   "execution_count": 3,
   "id": "6ebadc37",
   "metadata": {},
   "outputs": [],
   "source": [
    "from scratch.linear_algebra import Vector, dot\n",
    "\n",
    "def step_function(x: float) -> float: \n",
    "    return 1.0 if x >= 0 else 0.0 \n",
    "\n",
    "def perceptron_output(weights: Vector, bias: float, x: Vector) -> float: \n",
    "    \"\"\"Returns 1 if the perceptron 'fires', 0 if not\"\"\" \n",
    "    calculation = dot(weights, x) + bias \n",
    "    return step_function(calculation)"
   ]
  },
  {
   "cell_type": "code",
   "execution_count": 4,
   "id": "62934528",
   "metadata": {},
   "outputs": [],
   "source": [
    "and_weights = [2., 2] \n",
    "and_bias = -3. \n",
    " \n",
    "assert perceptron_output(and_weights, and_bias, [1, 1]) == 1 \n",
    "assert perceptron_output(and_weights, and_bias, [0, 1]) == 0 \n",
    "assert perceptron_output(and_weights, and_bias, [1, 0]) == 0 \n",
    "assert perceptron_output(and_weights, and_bias, [0, 0]) == 0"
   ]
  },
  {
   "cell_type": "code",
   "execution_count": 5,
   "id": "3611fe23",
   "metadata": {},
   "outputs": [],
   "source": [
    "or_weights = [2., 2] \n",
    "or_bias = -1. \n",
    " \n",
    "assert perceptron_output(or_weights, or_bias, [1, 1]) == 1 \n",
    "assert perceptron_output(or_weights, or_bias, [0, 1]) == 1 \n",
    "assert perceptron_output(or_weights, or_bias, [1, 0]) == 1 \n",
    "assert perceptron_output(or_weights, or_bias, [0, 0]) == 0\n"
   ]
  },
  {
   "cell_type": "code",
   "execution_count": 6,
   "id": "a3d0f403",
   "metadata": {},
   "outputs": [],
   "source": [
    "not_weights = [-2.] \n",
    "not_bias = 1. \n",
    " \n",
    "assert perceptron_output(not_weights, not_bias, [0]) == 1 \n",
    "assert perceptron_output(not_weights, not_bias, [1]) == 0"
   ]
  },
  {
   "cell_type": "code",
   "execution_count": 7,
   "id": "6d04c27f",
   "metadata": {},
   "outputs": [],
   "source": [
    "and_gate = min \n",
    "or_gate = max \n",
    "xor_gate = lambda x, y: 0 if x == y else 1"
   ]
  },
  {
   "cell_type": "code",
   "execution_count": 8,
   "id": "88d5237a",
   "metadata": {},
   "outputs": [],
   "source": [
    "import math\n",
    "\n",
    "def sigmoid(x: float) -> float: \n",
    "    return 1.0 / (1.0 + math.exp(-x))"
   ]
  },
  {
   "cell_type": "code",
   "execution_count": 9,
   "id": "017a0e8e",
   "metadata": {},
   "outputs": [],
   "source": [
    "def neuron_output(weights: Vector, inputs: Vector) -> float: \n",
    "    # weights includes the bias term, inputs includes a 1 \n",
    "    return sigmoid(dot(weights, inputs))"
   ]
  },
  {
   "cell_type": "code",
   "execution_count": 10,
   "id": "860e40e2",
   "metadata": {},
   "outputs": [],
   "source": [
    "from typing import List\n",
    "from scratch.linear_algebra import Vector\n",
    "\n",
    "def feed_forward(neural_network: List[List[Vector]], \n",
    "                 input_vector: Vector) -> List[Vector]: \n",
    "    \"\"\" \n",
    "    Feeds the input vector through the neural network. \n",
    "    Returns the outputs of all layers (not just the last one). \n",
    "    \"\"\" \n",
    "    outputs: List[Vector] = [] \n",
    " \n",
    "    for layer in neural_network: \n",
    "        input_with_bias = input_vector + [1]              # Add a constant. \n",
    "        output = [neuron_output(neuron, input_with_bias)  # Compute the output \n",
    "                  for neuron in layer]                    # for each neuron. \n",
    "        outputs.append(output)                            # Add to results. \n",
    " \n",
    "        # Then the input to the next layer is the output of this one \n",
    "        input_vector = output \n",
    " \n",
    "    return outputs"
   ]
  },
  {
   "cell_type": "code",
   "execution_count": 13,
   "id": "eae36f8e",
   "metadata": {},
   "outputs": [],
   "source": [
    "xor_network = [# hidden layer \n",
    "               [[20., 20, -30],      # 'and' neuron \n",
    "                [20., 20, -10]],     # 'or'  neuron \n",
    "               # output layer \n",
    "               [[-60., 60, -30]]]\n",
    "\n",
    "# feed_forward returns the outputs of all layers, so the [-1] gets the \n",
    "# final output, and the [0] gets the value out of the resulting vector \n",
    "assert 0.000 < feed_forward(xor_network, [0, 0])[-1][0] < 0.001 \n",
    "assert 0.999 < feed_forward(xor_network, [1, 0])[-1][0] < 1.000 \n",
    "assert 0.999 < feed_forward(xor_network, [0, 1])[-1][0] < 1.000 \n",
    "assert 0.000 < feed_forward(xor_network, [1, 1])[-1][0] < 0.001"
   ]
  },
  {
   "cell_type": "code",
   "execution_count": 15,
   "id": "27baa285",
   "metadata": {},
   "outputs": [],
   "source": [
    "def sqerror_gradients(network: List[List[Vector]], \n",
    "                      input_vector: Vector, \n",
    "                      target_vector: Vector) -> List[List[Vector]]: \n",
    "    \"\"\" \n",
    "    Given a neural network, an input vector, and a target vector, \n",
    "    make a prediction and compute the gradient of the squared error \n",
    "    loss with respect to the neuron weights. \n",
    "    \"\"\" \n",
    "    # forward pass \n",
    "    hidden_outputs, outputs = feed_forward(network, input_vector) \n",
    " \n",
    "    # gradients with respect to output neuron pre-activation outputs \n",
    "    output_deltas = [output * (1 - output) * (output - target) \n",
    "                     for output, target in zip(outputs, target_vector)] \n",
    " \n",
    "    # gradients with respect to output neuron weights \n",
    "    output_grads = [[output_deltas[i] * hidden_output \n",
    "                     for hidden_output in hidden_outputs + [1]] \n",
    "                    for i, output_neuron in enumerate(network[-1])] \n",
    " \n",
    "    # gradients with respect to hidden neuron pre-activation outputs \n",
    "    hidden_deltas = [hidden_output * (1 - hidden_output) * \n",
    "                         dot(output_deltas, [n[i] for n in network[-1]]) \n",
    "                     for i, hidden_output in enumerate(hidden_outputs)] \n",
    " \n",
    "    # gradients with respect to hidden neuron weights \n",
    "    hidden_grads = [[hidden_deltas[i] * input for input in input_vector + [1]] \n",
    "                    for i, hidden_neuron in enumerate(network[0])] \n",
    " \n",
    "    return [hidden_grads, output_grads]"
   ]
  },
  {
   "cell_type": "code",
   "execution_count": 17,
   "id": "fe59d75a",
   "metadata": {},
   "outputs": [],
   "source": [
    "import random\n",
    "random.seed(0)\n",
    "\n",
    "# training data\n",
    "xs = [[0., 0], [0., 1], [1., 0], [1., 1]]\n",
    "ys = [[0.], [1.], [1.], [0.]]\n",
    "\n",
    "# start with random weights\n",
    "network = [  # hidden layer: 2 inputs -> 2 outputs\n",
    "    [[random.random() for _ in range(2 + 1)],   # 1st hidden neuron\n",
    "     [random.random() for _ in range(2 + 1)]],  # 2nd hidden neuron\n",
    "    # output layer: 2 inputs -> 1 output\n",
    "    [[random.random() for _ in range(2 + 1)]]   # 1st output neuron\n",
    "]"
   ]
  },
  {
   "cell_type": "code",
   "execution_count": null,
   "id": "49743430",
   "metadata": {},
   "outputs": [
    {
     "name": "stderr",
     "output_type": "stream",
     "text": [
      "neural net for xor: 100%|██████████| 20000/20000 [00:02<00:00, 8627.28it/s]\n"
     ]
    }
   ],
   "source": [
    "import tqdm\n",
    "from scratch.gradient_descent import gradient_step \n",
    " \n",
    "learning_rate = 1.0\n",
    " \n",
    "for epoch in tqdm.trange(20000, desc=\"neural net for xor\"): \n",
    "    for x, y in zip(xs, ys): \n",
    "        gradients = sqerror_gradients(network, x, y) \n",
    " \n",
    "        # Take a gradient step for each neuron in each layer \n",
    "        network = [[gradient_step(neuron, grad, -learning_rate) \n",
    "                    for neuron, grad in zip(layer, layer_grad)] \n",
    "                   for layer, layer_grad in zip(network, gradients)] \n",
    " \n",
    "# check that it learned XOR \n",
    "assert feed_forward(network, [0, 0])[-1][0] < 0.01 \n",
    "assert feed_forward(network, [0, 1])[-1][0] > 0.99 \n",
    "assert feed_forward(network, [1, 0])[-1][0] > 0.99 \n",
    "assert feed_forward(network, [1, 1])[-1][0] < 0.01"
   ]
  },
  {
   "cell_type": "code",
   "execution_count": 19,
   "id": "17af8b1a",
   "metadata": {},
   "outputs": [
    {
     "data": {
      "text/plain": [
       "[[[6.95350561010429, 6.952785792366963, -3.1484761965046673],\n",
       "  [5.115899442661922, 5.115407875835949, -7.839603434415663]],\n",
       " [[10.96170583263056, -11.630605346643168, -5.144229056613081]]]"
      ]
     },
     "execution_count": 19,
     "metadata": {},
     "output_type": "execute_result"
    }
   ],
   "source": [
    "network"
   ]
  },
  {
   "cell_type": "code",
   "execution_count": null,
   "id": "4c6bce2a",
   "metadata": {},
   "outputs": [],
   "source": []
  }
 ],
 "metadata": {
  "kernelspec": {
   "display_name": "data_science_from_scratch",
   "language": "python",
   "name": "python3"
  },
  "language_info": {
   "codemirror_mode": {
    "name": "ipython",
    "version": 3
   },
   "file_extension": ".py",
   "mimetype": "text/x-python",
   "name": "python",
   "nbconvert_exporter": "python",
   "pygments_lexer": "ipython3",
   "version": "3.12.0"
  }
 },
 "nbformat": 4,
 "nbformat_minor": 5
}
