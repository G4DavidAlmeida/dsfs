{
 "cells": [
  {
   "cell_type": "code",
   "execution_count": 1,
   "id": "6ebadc37",
   "metadata": {},
   "outputs": [],
   "source": [
    "from scratch.linear_algebra import Vector, dot\n",
    "\n",
    "def step_function(x: float) -> float: \n",
    "    return 1.0 if x >= 0 else 0.0 \n",
    "\n",
    "def perceptron_output(weights: Vector, bias: float, x: Vector) -> float: \n",
    "    \"\"\"Returns 1 if the perceptron 'fires', 0 if not\"\"\" \n",
    "    calculation = dot(weights, x) + bias \n",
    "    return step_function(calculation)"
   ]
  },
  {
   "cell_type": "code",
   "execution_count": 2,
   "id": "62934528",
   "metadata": {},
   "outputs": [],
   "source": [
    "and_weights = [2., 2] \n",
    "and_bias = -3. \n",
    " \n",
    "assert perceptron_output(and_weights, and_bias, [1, 1]) == 1 \n",
    "assert perceptron_output(and_weights, and_bias, [0, 1]) == 0 \n",
    "assert perceptron_output(and_weights, and_bias, [1, 0]) == 0 \n",
    "assert perceptron_output(and_weights, and_bias, [0, 0]) == 0"
   ]
  },
  {
   "cell_type": "code",
   "execution_count": 3,
   "id": "3611fe23",
   "metadata": {},
   "outputs": [],
   "source": [
    "or_weights = [2., 2] \n",
    "or_bias = -1. \n",
    " \n",
    "assert perceptron_output(or_weights, or_bias, [1, 1]) == 1 \n",
    "assert perceptron_output(or_weights, or_bias, [0, 1]) == 1 \n",
    "assert perceptron_output(or_weights, or_bias, [1, 0]) == 1 \n",
    "assert perceptron_output(or_weights, or_bias, [0, 0]) == 0\n"
   ]
  },
  {
   "cell_type": "code",
   "execution_count": 4,
   "id": "a3d0f403",
   "metadata": {},
   "outputs": [],
   "source": [
    "not_weights = [-2.] \n",
    "not_bias = 1. \n",
    " \n",
    "assert perceptron_output(not_weights, not_bias, [0]) == 1 \n",
    "assert perceptron_output(not_weights, not_bias, [1]) == 0"
   ]
  },
  {
   "cell_type": "code",
   "execution_count": 5,
   "id": "6d04c27f",
   "metadata": {},
   "outputs": [],
   "source": [
    "and_gate = min \n",
    "or_gate = max \n",
    "xor_gate = lambda x, y: 0 if x == y else 1"
   ]
  },
  {
   "cell_type": "code",
   "execution_count": 6,
   "id": "88d5237a",
   "metadata": {},
   "outputs": [],
   "source": [
    "import math\n",
    "\n",
    "def sigmoid(x: float) -> float: \n",
    "    return 1.0 / (1.0 + math.exp(-x))"
   ]
  },
  {
   "cell_type": "code",
   "execution_count": 7,
   "id": "017a0e8e",
   "metadata": {},
   "outputs": [],
   "source": [
    "def neuron_output(weights: Vector, inputs: Vector) -> float: \n",
    "    # weights includes the bias term, inputs includes a 1 \n",
    "    return sigmoid(dot(weights, inputs))"
   ]
  },
  {
   "cell_type": "code",
   "execution_count": 10,
   "id": "860e40e2",
   "metadata": {},
   "outputs": [],
   "source": [
    "from typing import List\n",
    "from scratch.linear_algebra import Vector\n",
    "\n",
    "def feed_forward(neural_network: List[Vector], input_vector: Vector) -> List[float]: \n",
    "    \"\"\" \n",
    "    Feeds the input vector through the neural network. \n",
    "    Returns the outputs of all layers (not just the last one). \n",
    "    \"\"\" \n",
    "    outputs: List[Vector] = [] \n",
    " \n",
    "    for layer in neural_network: \n",
    "        input_with_bias = input_vector + [1]              # Add a constant. \n",
    "        output = [neuron_output(neuron, input_with_bias)  # Compute the output \n",
    "                  for neuron in layer]                    # for each neuron. \n",
    "        outputs.append(output)                            # Add to results. \n",
    " \n",
    "        # Then the input to the next layer is the output of this one \n",
    "        input_vector = output \n",
    " \n",
    "    return outputs"
   ]
  },
  {
   "cell_type": "code",
   "execution_count": 11,
   "id": "eae36f8e",
   "metadata": {},
   "outputs": [],
   "source": [
    "xor_network = [# hidden layer \n",
    "               [[20., 20, -30],      # 'and' neuron \n",
    "                [20., 20, -10]],     # 'or'  neuron \n",
    "               # output layer \n",
    "               [[-60., 60, -30]]]\n",
    "\n",
    "# feed_forward returns the outputs of all layers, so the [-1] gets the \n",
    "# final output, and the [0] gets the value out of the resulting vector \n",
    "assert 0.000 < feed_forward(xor_network, [0, 0])[-1][0] < 0.001 \n",
    "assert 0.999 < feed_forward(xor_network, [1, 0])[-1][0] < 1.000 \n",
    "assert 0.999 < feed_forward(xor_network, [0, 1])[-1][0] < 1.000 \n",
    "assert 0.000 < feed_forward(xor_network, [1, 1])[-1][0] < 0.001"
   ]
  },
  {
   "cell_type": "code",
   "execution_count": null,
   "id": "db231534",
   "metadata": {},
   "outputs": [],
   "source": []
  }
 ],
 "metadata": {
  "kernelspec": {
   "display_name": "data_science_from_scratch",
   "language": "python",
   "name": "python3"
  },
  "language_info": {
   "codemirror_mode": {
    "name": "ipython",
    "version": 3
   },
   "file_extension": ".py",
   "mimetype": "text/x-python",
   "name": "python",
   "nbconvert_exporter": "python",
   "pygments_lexer": "ipython3",
   "version": "3.12.0"
  }
 },
 "nbformat": 4,
 "nbformat_minor": 5
}
