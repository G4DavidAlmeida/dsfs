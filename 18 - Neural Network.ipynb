{
 "cells": [
  {
   "cell_type": "code",
   "execution_count": 1,
   "id": "6ebadc37",
   "metadata": {},
   "outputs": [],
   "source": [
    "from scratch.linear_algebra import Vector, dot\n",
    "\n",
    "def step_function(x: float) -> float: \n",
    "    return 1.0 if x >= 0 else 0.0 \n",
    "\n",
    "def perceptron_output(weights: Vector, bias: float, x: Vector) -> float: \n",
    "    \"\"\"Returns 1 if the perceptron 'fires', 0 if not\"\"\" \n",
    "    calculation = dot(weights, x) + bias \n",
    "    return step_function(calculation)"
   ]
  },
  {
   "cell_type": "code",
   "execution_count": 2,
   "id": "62934528",
   "metadata": {},
   "outputs": [],
   "source": [
    "and_weights = [2., 2] \n",
    "and_bias = -3. \n",
    " \n",
    "assert perceptron_output(and_weights, and_bias, [1, 1]) == 1 \n",
    "assert perceptron_output(and_weights, and_bias, [0, 1]) == 0 \n",
    "assert perceptron_output(and_weights, and_bias, [1, 0]) == 0 \n",
    "assert perceptron_output(and_weights, and_bias, [0, 0]) == 0"
   ]
  },
  {
   "cell_type": "code",
   "execution_count": 3,
   "id": "3611fe23",
   "metadata": {},
   "outputs": [],
   "source": [
    "or_weights = [2., 2] \n",
    "or_bias = -1. \n",
    " \n",
    "assert perceptron_output(or_weights, or_bias, [1, 1]) == 1 \n",
    "assert perceptron_output(or_weights, or_bias, [0, 1]) == 1 \n",
    "assert perceptron_output(or_weights, or_bias, [1, 0]) == 1 \n",
    "assert perceptron_output(or_weights, or_bias, [0, 0]) == 0\n"
   ]
  },
  {
   "cell_type": "code",
   "execution_count": 4,
   "id": "a3d0f403",
   "metadata": {},
   "outputs": [],
   "source": [
    "not_weights = [-2.] \n",
    "not_bias = 1. \n",
    " \n",
    "assert perceptron_output(not_weights, not_bias, [0]) == 1 \n",
    "assert perceptron_output(not_weights, not_bias, [1]) == 0"
   ]
  },
  {
   "cell_type": "code",
   "execution_count": 5,
   "id": "6d04c27f",
   "metadata": {},
   "outputs": [],
   "source": [
    "and_gate = min \n",
    "or_gate = max \n",
    "xor_gate = lambda x, y: 0 if x == y else 1"
   ]
  },
  {
   "cell_type": "code",
   "execution_count": 6,
   "id": "88d5237a",
   "metadata": {},
   "outputs": [],
   "source": [
    "import math\n",
    "\n",
    "def sigmoid(x: float) -> float: \n",
    "    return 1.0 / (1.0 + math.exp(-x))"
   ]
  },
  {
   "cell_type": "code",
   "execution_count": 7,
   "id": "017a0e8e",
   "metadata": {},
   "outputs": [],
   "source": [
    "def neuron_output(weights: Vector, inputs: Vector) -> float: \n",
    "    # weights includes the bias term, inputs includes a 1 \n",
    "    return sigmoid(dot(weights, inputs))"
   ]
  },
  {
   "cell_type": "code",
   "execution_count": 8,
   "id": "860e40e2",
   "metadata": {},
   "outputs": [],
   "source": [
    "from typing import List\n",
    "from scratch.linear_algebra import Vector\n",
    "\n",
    "def feed_forward(neural_network: List[List[Vector]], \n",
    "                 input_vector: Vector) -> List[Vector]: \n",
    "    \"\"\" \n",
    "    Feeds the input vector through the neural network. \n",
    "    Returns the outputs of all layers (not just the last one). \n",
    "    \"\"\" \n",
    "    outputs: List[Vector] = [] \n",
    " \n",
    "    for layer in neural_network: \n",
    "        input_with_bias = input_vector + [1]              # Add a constant. \n",
    "        output = [neuron_output(neuron, input_with_bias)  # Compute the output \n",
    "                  for neuron in layer]                    # for each neuron. \n",
    "        outputs.append(output)                            # Add to results. \n",
    " \n",
    "        # Then the input to the next layer is the output of this one \n",
    "        input_vector = output \n",
    " \n",
    "    return outputs"
   ]
  },
  {
   "cell_type": "code",
   "execution_count": 9,
   "id": "eae36f8e",
   "metadata": {},
   "outputs": [],
   "source": [
    "xor_network = [# hidden layer \n",
    "               [[20., 20, -30],      # 'and' neuron \n",
    "                [20., 20, -10]],     # 'or'  neuron \n",
    "               # output layer \n",
    "               [[-60., 60, -30]]]\n",
    "\n",
    "# feed_forward returns the outputs of all layers, so the [-1] gets the \n",
    "# final output, and the [0] gets the value out of the resulting vector \n",
    "assert 0.000 < feed_forward(xor_network, [0, 0])[-1][0] < 0.001 \n",
    "assert 0.999 < feed_forward(xor_network, [1, 0])[-1][0] < 1.000 \n",
    "assert 0.999 < feed_forward(xor_network, [0, 1])[-1][0] < 1.000 \n",
    "assert 0.000 < feed_forward(xor_network, [1, 1])[-1][0] < 0.001"
   ]
  },
  {
   "cell_type": "code",
   "execution_count": 10,
   "id": "27baa285",
   "metadata": {},
   "outputs": [],
   "source": [
    "def sqerror_gradients(network: List[List[Vector]], \n",
    "                      input_vector: Vector, \n",
    "                      target_vector: Vector) -> List[List[Vector]]: \n",
    "    \"\"\" \n",
    "    Given a neural network, an input vector, and a target vector, \n",
    "    make a prediction and compute the gradient of the squared error \n",
    "    loss with respect to the neuron weights. \n",
    "    \"\"\" \n",
    "    # forward pass \n",
    "    hidden_outputs, outputs = feed_forward(network, input_vector) \n",
    " \n",
    "    # gradients with respect to output neuron pre-activation outputs \n",
    "    output_deltas = [output * (1 - output) * (output - target) \n",
    "                     for output, target in zip(outputs, target_vector)] \n",
    " \n",
    "    # gradients with respect to output neuron weights \n",
    "    output_grads = [[output_deltas[i] * hidden_output \n",
    "                     for hidden_output in hidden_outputs + [1]] \n",
    "                    for i, output_neuron in enumerate(network[-1])] \n",
    " \n",
    "    # gradients with respect to hidden neuron pre-activation outputs \n",
    "    hidden_deltas = [hidden_output * (1 - hidden_output) * \n",
    "                         dot(output_deltas, [n[i] for n in network[-1]]) \n",
    "                     for i, hidden_output in enumerate(hidden_outputs)] \n",
    " \n",
    "    # gradients with respect to hidden neuron weights \n",
    "    hidden_grads = [[hidden_deltas[i] * input for input in input_vector + [1]] \n",
    "                    for i, hidden_neuron in enumerate(network[0])] \n",
    " \n",
    "    return [hidden_grads, output_grads]"
   ]
  },
  {
   "cell_type": "code",
   "execution_count": 11,
   "id": "fe59d75a",
   "metadata": {},
   "outputs": [],
   "source": [
    "import random\n",
    "random.seed(0)\n",
    "\n",
    "# training data\n",
    "xs = [[0., 0], [0., 1], [1., 0], [1., 1]]\n",
    "ys = [[0.], [1.], [1.], [0.]]\n",
    "\n",
    "# start with random weights\n",
    "network = [  # hidden layer: 2 inputs -> 2 outputs\n",
    "    [[random.random() for _ in range(2 + 1)],   # 1st hidden neuron\n",
    "     [random.random() for _ in range(2 + 1)]],  # 2nd hidden neuron\n",
    "    # output layer: 2 inputs -> 1 output\n",
    "    [[random.random() for _ in range(2 + 1)]]   # 1st output neuron\n",
    "]"
   ]
  },
  {
   "cell_type": "code",
   "execution_count": 12,
   "id": "49743430",
   "metadata": {},
   "outputs": [
    {
     "name": "stderr",
     "output_type": "stream",
     "text": [
      "neural net for xor: 100%|██████████| 20000/20000 [00:00<00:00, 30096.63it/s]\n"
     ]
    }
   ],
   "source": [
    "import tqdm\n",
    "from scratch.gradient_descent import gradient_step \n",
    " \n",
    "learning_rate = 1.0\n",
    " \n",
    "for epoch in tqdm.trange(20000, desc=\"neural net for xor\"): \n",
    "    for x, y in zip(xs, ys): \n",
    "        gradients = sqerror_gradients(network, x, y) \n",
    " \n",
    "        # Take a gradient step for each neuron in each layer \n",
    "        network = [[gradient_step(neuron, grad, -learning_rate) \n",
    "                    for neuron, grad in zip(layer, layer_grad)] \n",
    "                   for layer, layer_grad in zip(network, gradients)] \n",
    " \n",
    "# check that it learned XOR \n",
    "assert feed_forward(network, [0, 0])[-1][0] < 0.01\n",
    "assert feed_forward(network, [0, 1])[-1][0] > 0.99 \n",
    "assert feed_forward(network, [1, 0])[-1][0] > 0.99 \n",
    "assert feed_forward(network, [1, 1])[-1][0] < 0.01"
   ]
  },
  {
   "cell_type": "code",
   "execution_count": 13,
   "id": "17af8b1a",
   "metadata": {},
   "outputs": [
    {
     "data": {
      "text/plain": [
       "[[[6.95350561010429, 6.952785792366963, -3.1484761965046673],\n",
       "  [5.115899442661922, 5.115407875835949, -7.839603434415663]],\n",
       " [[10.96170583263056, -11.630605346643168, -5.144229056613081]]]"
      ]
     },
     "execution_count": 13,
     "metadata": {},
     "output_type": "execute_result"
    }
   ],
   "source": [
    "network"
   ]
  },
  {
   "cell_type": "code",
   "execution_count": 24,
   "id": "4c6bce2a",
   "metadata": {},
   "outputs": [],
   "source": [
    "def fizz_buzz_encode(x: int) -> Vector:\n",
    "    if x % 15 == 0:\n",
    "        return [0,0,0,1]    \n",
    "    elif x % 5 == 0:\n",
    "        return [0,0,1,0]\n",
    "    elif x % 3 == 0:\n",
    "        return [0,1,0,0]\n",
    "    else:\n",
    "        return [1,0,0,0]\n",
    "\n",
    "assert fizz_buzz_encode(2) == [1, 0, 0, 0] \n",
    "assert fizz_buzz_encode(6) == [0, 1, 0, 0] \n",
    "assert fizz_buzz_encode(10) == [0, 0, 1, 0] \n",
    "assert fizz_buzz_encode(30) == [0, 0, 0, 1]"
   ]
  },
  {
   "cell_type": "code",
   "execution_count": 25,
   "id": "d59dc263",
   "metadata": {},
   "outputs": [],
   "source": [
    "def binary_encode(x: int) -> Vector:\n",
    "    binary: List[float] = []\n",
    "    for i in range(10):\n",
    "        binary.append(x % 2)\n",
    "        x //= 2\n",
    "    return binary\n",
    "\n",
    "#                             1  2  4  8 16 32 64 128 256 512 \n",
    "assert binary_encode(0)   == [0, 0, 0, 0, 0, 0, 0, 0,  0,  0] \n",
    "assert binary_encode(1)   == [1, 0, 0, 0, 0, 0, 0, 0,  0,  0] \n",
    "assert binary_encode(10)  == [0, 1, 0, 1, 0, 0, 0, 0,  0,  0] \n",
    "assert binary_encode(101) == [1, 0, 1, 0, 0, 1, 1, 0,  0,  0] \n",
    "assert binary_encode(999) == [1, 1, 1, 0, 0, 1, 1, 1,  1,  1]"
   ]
  },
  {
   "cell_type": "code",
   "execution_count": 26,
   "id": "68123b20",
   "metadata": {},
   "outputs": [],
   "source": [
    "xs = [binary_encode(n) for n in range(101, 1024)] \n",
    "ys = [fizz_buzz_encode(n) for n in range(101, 1024)]"
   ]
  },
  {
   "cell_type": "code",
   "execution_count": 27,
   "id": "c2b37934",
   "metadata": {},
   "outputs": [],
   "source": [
    "NUM_HIDDEN = 25\n",
    "\n",
    "network = [\n",
    "    # hidden layer: 10 inputs -> 25 outputs\n",
    "    [[random.random() for _ in range(10 + 1)] for _ in range(NUM_HIDDEN)],\n",
    "    # output layer: 25 inputs -> 4 outputs\n",
    "    [[random.random() for _ in range(NUM_HIDDEN + 1)] for _ in range(4)],\n",
    "]"
   ]
  },
  {
   "cell_type": "code",
   "execution_count": 29,
   "id": "cddb98d2",
   "metadata": {},
   "outputs": [
    {
     "name": "stderr",
     "output_type": "stream",
     "text": [
      "  0%|          | 0/500 [00:00<?, ?it/s]"
     ]
    },
    {
     "name": "stderr",
     "output_type": "stream",
     "text": [
      "epoch 500 loss 29.9320: 100%|██████████| 500/500 [01:04<00:00,  7.77it/s] \n"
     ]
    }
   ],
   "source": [
    "from scratch.linear_algebra import square_distance\n",
    "\n",
    "learning_rate = 1.0\n",
    "\n",
    "with tqdm.trange(500) as t:\n",
    "    for epoch in t:\n",
    "        epoch_loss = 0.0\n",
    "        \n",
    "        for x, y in zip(xs, ys):\n",
    "            predicted = feed_forward(network, x)[-1]\n",
    "            epoch_loss += square_distance(predicted, y)\n",
    "            gradients = sqerror_gradients(network, x, y)\n",
    "            \n",
    "            # Take a gradient step for each neuron in each layer\n",
    "            network = [[gradient_step(neuron, grad, -learning_rate)\n",
    "                        for neuron, grad in zip(layer, layer_grad)]\n",
    "                       for layer, layer_grad in zip(network, gradients)]\n",
    "            \n",
    "        t.set_description(f\"epoch {epoch + 1} loss {epoch_loss:.4f}\")"
   ]
  },
  {
   "cell_type": "code",
   "execution_count": 30,
   "id": "1dbe599a",
   "metadata": {},
   "outputs": [],
   "source": [
    "def argmax(xs: list[float]) -> int:\n",
    "    \"\"\"Returns the index of the largest value\"\"\" \n",
    "    return max(range(len(xs)), key=lambda i: xs[i])\n",
    "\n",
    "assert argmax([0, -1]) == 0               # items[0] is largest \n",
    "assert argmax([-1, 0]) == 1               # items[1] is largest \n",
    "assert argmax([-1, 10, 5, 20, -3]) == 3   # items[3] is largest"
   ]
  },
  {
   "cell_type": "code",
   "execution_count": 31,
   "id": "3b319eef",
   "metadata": {},
   "outputs": [
    {
     "name": "stdout",
     "output_type": "stream",
     "text": [
      "1 1 1\n",
      "2 2 2\n",
      "3 fizz fizz\n",
      "4 4 4\n",
      "5 buzz buzz\n",
      "6 fizz fizz\n",
      "7 7 7\n",
      "8 8 8\n",
      "9 fizz fizz\n",
      "10 buzz buzz\n",
      "11 11 11\n",
      "12 fizz fizz\n",
      "13 13 13\n",
      "14 14 14\n",
      "15 fizzbuzz fizzbuzz\n",
      "16 16 16\n",
      "17 17 17\n",
      "18 fizz fizz\n",
      "19 19 19\n",
      "20 20 buzz\n",
      "21 fizz fizz\n",
      "22 22 22\n",
      "23 23 23\n",
      "24 fizz fizz\n",
      "25 buzz buzz\n",
      "26 26 26\n",
      "27 fizz fizz\n",
      "28 28 28\n",
      "29 29 29\n",
      "30 fizzbuzz fizzbuzz\n",
      "31 31 31\n",
      "32 32 32\n",
      "33 fizz fizz\n",
      "34 34 34\n",
      "35 buzz buzz\n",
      "36 fizz fizz\n",
      "37 37 37\n",
      "38 38 38\n",
      "39 fizz fizz\n",
      "40 buzz buzz\n",
      "41 41 41\n",
      "42 fizz fizz\n",
      "43 43 43\n",
      "44 44 44\n",
      "45 fizzbuzz fizzbuzz\n",
      "46 46 46\n",
      "47 47 47\n",
      "48 fizz fizz\n",
      "49 49 49\n",
      "50 buzz buzz\n",
      "51 fizz fizz\n",
      "52 52 52\n",
      "53 53 53\n",
      "54 fizz fizz\n",
      "55 buzz buzz\n",
      "56 56 56\n",
      "57 fizz fizz\n",
      "58 58 58\n",
      "59 59 59\n",
      "60 fizzbuzz fizzbuzz\n",
      "61 61 61\n",
      "62 62 62\n",
      "63 fizz fizz\n",
      "64 64 64\n",
      "65 buzz buzz\n",
      "66 fizz fizz\n",
      "67 67 67\n",
      "68 68 68\n",
      "69 fizz fizz\n",
      "70 buzz buzz\n",
      "71 71 71\n",
      "72 fizz fizz\n",
      "73 73 73\n",
      "74 74 74\n",
      "75 fizzbuzz fizzbuzz\n",
      "76 76 76\n",
      "77 77 77\n",
      "78 fizz fizz\n",
      "79 79 79\n",
      "80 80 buzz\n",
      "81 fizz fizz\n",
      "82 82 82\n",
      "83 83 83\n",
      "84 fizz fizz\n",
      "85 fizz buzz\n",
      "86 86 86\n",
      "87 fizz fizz\n",
      "88 88 88\n",
      "89 89 89\n",
      "90 fizzbuzz fizzbuzz\n",
      "91 91 91\n",
      "92 92 92\n",
      "93 fizz fizz\n",
      "94 94 94\n",
      "95 fizz buzz\n",
      "96 fizz fizz\n",
      "97 97 97\n",
      "98 98 98\n",
      "99 fizz fizz\n",
      "100 buzz buzz\n",
      "96 / 100\n"
     ]
    }
   ],
   "source": [
    "num_correct = 0 \n",
    " \n",
    "for n in range(1, 101): \n",
    "    x = binary_encode(n) \n",
    "    predicted = argmax(feed_forward(network, x)[-1]) \n",
    "    actual = argmax(fizz_buzz_encode(n)) \n",
    "    labels = [str(n), \"fizz\", \"buzz\", \"fizzbuzz\"] \n",
    "    print(n, labels[predicted], labels[actual]) \n",
    " \n",
    "    if predicted == actual: \n",
    "        num_correct += 1 \n",
    " \n",
    "print(num_correct, \"/\", 100)"
   ]
  },
  {
   "cell_type": "code",
   "execution_count": null,
   "id": "ae6e5c63",
   "metadata": {},
   "outputs": [],
   "source": []
  }
 ],
 "metadata": {
  "kernelspec": {
   "display_name": "data_science_from_scratch_3.12.2",
   "language": "python",
   "name": "python3"
  },
  "language_info": {
   "codemirror_mode": {
    "name": "ipython",
    "version": 3
   },
   "file_extension": ".py",
   "mimetype": "text/x-python",
   "name": "python",
   "nbconvert_exporter": "python",
   "pygments_lexer": "ipython3",
   "version": "3.12.2"
  }
 },
 "nbformat": 4,
 "nbformat_minor": 5
}
