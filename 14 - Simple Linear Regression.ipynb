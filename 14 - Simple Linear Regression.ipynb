{
 "cells": [
  {
   "cell_type": "code",
   "execution_count": 1,
   "metadata": {},
   "outputs": [],
   "source": [
    "def predict(alpha: float, beta: float, x_i: float) -> float:\n",
    "    return beta * x_i + alpha"
   ]
  },
  {
   "cell_type": "code",
   "execution_count": 2,
   "metadata": {},
   "outputs": [],
   "source": [
    "def error(alpha: float, beta: float, x_i: float, y_i: float) -> float:\n",
    "    \"\"\" the error from predicting beta * x_i + alpha when the actual value is y_i \"\"\"\n",
    "    return predict(alpha, beta, x_i) - y_i"
   ]
  },
  {
   "cell_type": "code",
   "execution_count": 3,
   "metadata": {},
   "outputs": [],
   "source": [
    "from scratch.linear_algebra import Vector\n",
    "\n",
    "def sum_of_sqerrors(alpha: float, beta: float, x: Vector, y: Vector) -> float:\n",
    "    return sum(error(alpha, beta, x_i, y_i) ** 2\n",
    "               for x_i, y_i in zip(x, y))"
   ]
  },
  {
   "cell_type": "code",
   "execution_count": 4,
   "metadata": {},
   "outputs": [],
   "source": [
    "from typing import Tuple\n",
    "from scratch.linear_algebra import Vector\n",
    "from scratch.statistic import correlation, standard_deviation, mean\n",
    "\n",
    "def least_squares_fit(x: Vector, y: Vector) -> Tuple[float, float]:\n",
    "    \"\"\"\n",
    "    Given two vectors x and y,\n",
    "    find the least-squares values of alpha and beta\n",
    "    \"\"\"\n",
    "    beta = correlation(x, y) * standard_deviation(y) / standard_deviation(x)\n",
    "    alpha = mean(y) - beta * mean(x)\n",
    "    return alpha, beta"
   ]
  },
  {
   "cell_type": "code",
   "execution_count": 5,
   "metadata": {},
   "outputs": [],
   "source": [
    "x = list(range(-100, 110, 10))\n",
    "y = [3 * i - 5 for i in x]\n",
    "\n",
    "# Should find that y = 3x - 5\n",
    "assert least_squares_fit(x, y) == (-5, 3)"
   ]
  },
  {
   "cell_type": "code",
   "execution_count": 6,
   "metadata": {},
   "outputs": [],
   "source": [
    "from scratch.statistic import de_mean\n",
    "\n",
    "def total_sum_of_squares(y: Vector) -> float:\n",
    "    \"\"\" the total squared variation of y_i from their mean \"\"\"\n",
    "    return sum(v ** 2 for v in de_mean(y))\n",
    "\n",
    "def r_squared(alpha: float, beta: float, x: Vector, y: Vector) -> float:\n",
    "    \"\"\"\n",
    "    the fraction of variation in y captured by the model, which equals\n",
    "    1 - the fraction of variation in y not captured by the model\n",
    "    \"\"\"\n",
    "    return 1.0 - (sum_of_sqerrors(alpha, beta, x, y) /\n",
    "                  total_sum_of_squares(y))"
   ]
  },
  {
   "cell_type": "code",
   "execution_count": 7,
   "metadata": {},
   "outputs": [],
   "source": [
    "from pathlib import Path\n",
    "\n",
    "iris_dataset_file = Path() / 'datasets' / 'iris.dat'\n",
    "assert iris_dataset_file.is_file(), f'{iris_dataset_file} not found'"
   ]
  },
  {
   "cell_type": "code",
   "execution_count": 8,
   "metadata": {},
   "outputs": [],
   "source": [
    "from typing  import NamedTuple\n",
    "\n",
    "class IrisRow(NamedTuple):\n",
    "    sepal_length: float\n",
    "    sepal_width: float\n",
    "    petal_length: float\n",
    "    petal_width: float"
   ]
  },
  {
   "cell_type": "code",
   "execution_count": 9,
   "metadata": {},
   "outputs": [],
   "source": [
    "import csv\n",
    "\n",
    "X, y = [], []\n",
    "with iris_dataset_file.open('r') as f:\n",
    "    reader = csv.reader(f)\n",
    "    for row in reader:\n",
    "        if row:\n",
    "            X.append(IrisRow(*[float(cell) for cell in row[:-1]]))\n",
    "            y.append(row[-1].replace('Iris-', ''))"
   ]
  },
  {
   "cell_type": "code",
   "execution_count": 10,
   "metadata": {},
   "outputs": [],
   "source": [
    "from scratch.machine_learning import train_test_split\n",
    "\n",
    "X_train, X_test, y_train, y_test = train_test_split(X, y, test_pct=0.25)\n",
    "\n",
    "# because we are working with Simple Linear Regression, we need to pick one feature to predict the target\n",
    "# let's start with petal_length\n",
    "petal_lengths = [x.petal_length for x in X_train]\n",
    "y_map = {'setosa': 0, 'versicolor': 1, 'virginica': 2}\n",
    "y_train = [y_map[yi] for yi in y_train]"
   ]
  },
  {
   "cell_type": "code",
   "execution_count": 12,
   "metadata": {},
   "outputs": [
    {
     "name": "stderr",
     "output_type": "stream",
     "text": [
      "loss: 7.301317786860398: 100%|██████████| 10000/10000 [00:04<00:00, 2068.34it/s]\n"
     ]
    },
    {
     "data": {
      "text/plain": [
       "[-0.6222073752585175, 0.4291256773371118]"
      ]
     },
     "execution_count": 12,
     "metadata": {},
     "output_type": "execute_result"
    }
   ],
   "source": [
    "import random\n",
    "import tqdm\n",
    "from scratch.gradient_descent import gradient_step\n",
    "\n",
    "num_epochs = 10000\n",
    "random.seed(0)  \n",
    "\n",
    "guess = [random.random(), random.random()]\n",
    "\n",
    "leaning_rate = 0.00001\n",
    "\n",
    "with tqdm.trange(num_epochs) as t:\n",
    "    for _ in t:\n",
    "        alpha, beta = guess\n",
    "\n",
    "        # Partial derivative of loss with respect to alpha\n",
    "        grad_a = sum(2 * error(alpha, beta, x_i, y_i)\n",
    "                     for x_i, y_i in zip(petal_lengths, y_train))\n",
    "\n",
    "        # Partial derivative of loss with respect to beta\n",
    "        grad_b = sum(2 * error(alpha, beta, x_i, y_i) * x_i\n",
    "                     for x_i, y_i in zip(petal_lengths, y_train))\n",
    "\n",
    "        # Compute loss to stick in the tqdm description\n",
    "        loss = sum_of_sqerrors(alpha, beta, petal_lengths, y_train)\n",
    "        t.set_description(f\"loss: {loss}\")\n",
    "\n",
    "        # Finally, update the guess\n",
    "        guess = gradient_step(guess, [grad_a, grad_b], -leaning_rate)\n",
    "\n",
    "guess"
   ]
  }
 ],
 "metadata": {
  "kernelspec": {
   "display_name": "data_science_from_scratch",
   "language": "python",
   "name": "python3"
  },
  "language_info": {
   "codemirror_mode": {
    "name": "ipython",
    "version": 3
   },
   "file_extension": ".py",
   "mimetype": "text/x-python",
   "name": "python",
   "nbconvert_exporter": "python",
   "pygments_lexer": "ipython3",
   "version": "3.12.2"
  }
 },
 "nbformat": 4,
 "nbformat_minor": 2
}
