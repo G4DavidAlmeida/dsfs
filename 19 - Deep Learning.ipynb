{
 "cells": [
  {
   "cell_type": "code",
   "execution_count": 1,
   "id": "ff851b0f",
   "metadata": {},
   "outputs": [],
   "source": [
    "Tensor = list"
   ]
  },
  {
   "cell_type": "code",
   "execution_count": 8,
   "id": "ff218969",
   "metadata": {},
   "outputs": [],
   "source": [
    "from typing import List\n",
    "\n",
    "\n",
    "def shape(tensor: Tensor) -> List[int]:\n",
    "    sizes: List[int] = []\n",
    "    while isinstance(tensor, list):\n",
    "        sizes.append(len(tensor))\n",
    "        tensor = tensor[0] if tensor else []\n",
    "    return sizes\n",
    "\n",
    "\n",
    "assert shape([1, 2, 3]) == [3]\n",
    "assert shape([[1, 2], [3, 4], [5, 6]]) == [3, 2]\n",
    "assert shape([\n",
    "    [[1, 2, 3, 4],\n",
    "     [5, 6, 7, 8],\n",
    "     [9, 10, 11, 12]],\n",
    "    [[13, 14, 15, 16],\n",
    "     [17, 18, 19, 20],\n",
    "     [21, 22, 23, 24]]\n",
    "]) == [2, 3, 4]"
   ]
  },
  {
   "cell_type": "code",
   "execution_count": 3,
   "id": "09e700e1",
   "metadata": {},
   "outputs": [],
   "source": [
    "def is_1d(tensor: Tensor) -> bool: \n",
    "    \"\"\" \n",
    "    If tensor[0] is a list, it's a higher-order tensor. \n",
    "    Otherwise, tensor is 1-dimensional (that is, a vector). \n",
    "    \"\"\" \n",
    "    return not isinstance(tensor[0], list) \n",
    " \n",
    "assert is_1d([1, 2, 3]) \n",
    "assert not is_1d([[1, 2], [3, 4]])"
   ]
  },
  {
   "cell_type": "code",
   "execution_count": 4,
   "id": "d305374a",
   "metadata": {},
   "outputs": [],
   "source": [
    "def tensor_sum(tensor: Tensor) -> float: \n",
    "    \"\"\"Sums up all the values in the tensor\"\"\" \n",
    "    if is_1d(tensor): \n",
    "        return sum(tensor)  # just a list of floats, use Python sum \n",
    "    else: \n",
    "        return sum(tensor_sum(tensor_i)      # Call tensor_sum on each row \n",
    "                   for tensor_i in tensor)   # and sum up those results. \n",
    " \n",
    "assert tensor_sum([1, 2, 3]) == 6 \n",
    "assert tensor_sum([[1, 2], [3, 4]]) == 10"
   ]
  },
  {
   "cell_type": "code",
   "execution_count": null,
   "id": "327a9aa1",
   "metadata": {},
   "outputs": [],
   "source": []
  }
 ],
 "metadata": {
  "kernelspec": {
   "display_name": "data_science_from_scratch_3.12.2",
   "language": "python",
   "name": "python3"
  },
  "language_info": {
   "codemirror_mode": {
    "name": "ipython",
    "version": 3
   },
   "file_extension": ".py",
   "mimetype": "text/x-python",
   "name": "python",
   "nbconvert_exporter": "python",
   "pygments_lexer": "ipython3",
   "version": "3.12.2"
  }
 },
 "nbformat": 4,
 "nbformat_minor": 5
}
