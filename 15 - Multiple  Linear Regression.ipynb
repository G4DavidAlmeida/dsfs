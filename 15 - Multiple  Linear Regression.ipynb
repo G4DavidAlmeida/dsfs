{
 "cells": [
  {
   "cell_type": "code",
   "execution_count": 1,
   "metadata": {},
   "outputs": [],
   "source": [
    "from scratch.linear_algebra import Vector, dot\n",
    "\n",
    "def predict(x: Vector, beta: Vector) -> float:\n",
    "    return dot(x, beta)"
   ]
  },
  {
   "cell_type": "code",
   "execution_count": 2,
   "metadata": {},
   "outputs": [],
   "source": [
    "from typing import List\n",
    "\n",
    "def error(x: Vector, y: float, beta: Vector) -> float:\n",
    "    return predict(x, beta) - y\n",
    "\n",
    "def squared_error(x: Vector, y: float, beta: Vector) -> float:\n",
    "    return error(x, y, beta) ** 2\n",
    "\n",
    "x = [1, 2, 3]\n",
    "y = 30\n",
    "beta = [4, 4, 4] # so prediction = 4 + 8 + 12 = 24\n",
    "\n",
    "assert error(x, y, beta) == -6\n",
    "assert squared_error(x, y, beta) == 36"
   ]
  },
  {
   "cell_type": "code",
   "execution_count": 3,
   "metadata": {},
   "outputs": [],
   "source": [
    "def sqerror_gradient(x: Vector, y: float, beta: Vector) -> Vector:\n",
    "    err = error(x, y, beta)\n",
    "    return [2 * err * x_i for x_i in x]\n",
    "\n",
    "assert sqerror_gradient(x, y, beta) == [-12, -24, -36]"
   ]
  },
  {
   "cell_type": "code",
   "execution_count": 4,
   "metadata": {},
   "outputs": [],
   "source": [
    "import random\n",
    "import tqdm \n",
    "from scratch.linear_algebra import vector_mean\n",
    "from scratch.gradient_descent import gradient_step\n",
    "\n",
    "def least_squares_fit(xs: List[Vector], ys: List[float], learning_rate: float = 0.001, num_steps: int = 1000, batch_size: int = 1) -> Vector:\n",
    "    # Start with a random guess\n",
    "    guess = [random.random() for _ in xs[0]]\n",
    "    for _ in tqdm.trange(num_steps, desc=\"least squares fit\"):\n",
    "        for start in range(0, len(xs), batch_size):\n",
    "            batch_xs = xs[start:start+batch_size]\n",
    "            batch_ys = ys[start:start+batch_size]\n",
    "\n",
    "            gradient = vector_mean([sqerror_gradient(x, y, guess) for x, y in zip(batch_xs, batch_ys)])\n",
    "            guess = gradient_step(guess, gradient, -learning_rate)\n",
    "    return guess"
   ]
  },
  {
   "cell_type": "code",
   "execution_count": 5,
   "metadata": {},
   "outputs": [],
   "source": [
    "from pathlib import Path\n",
    "\n",
    "iris_dataset_file = Path() / 'datasets' / 'iris.dat'\n",
    "assert iris_dataset_file.is_file(), f'{iris_dataset_file} not found'"
   ]
  },
  {
   "cell_type": "code",
   "execution_count": 6,
   "metadata": {},
   "outputs": [],
   "source": [
    "import csv\n",
    "\n",
    "y_map = {'Iris-setosa': 0, 'Iris-versicolor': 1, 'Iris-virginica': 2}\n",
    "X, y = [], []\n",
    "with iris_dataset_file.open('r') as f:\n",
    "    reader = csv.reader(f)\n",
    "    for row in reader:\n",
    "        if row:\n",
    "            X.append([float(cell) for cell in row[:-1]])\n",
    "            y.append(y_map[row[-1]])"
   ]
  },
  {
   "cell_type": "code",
   "execution_count": 7,
   "metadata": {},
   "outputs": [],
   "source": [
    "from scratch.machine_learning import train_test_split\n",
    "\n",
    "X_train, X_test, y_train, y_test = train_test_split(X, y, test_pct=0.25)"
   ]
  },
  {
   "cell_type": "code",
   "execution_count": 8,
   "metadata": {},
   "outputs": [
    {
     "name": "stderr",
     "output_type": "stream",
     "text": [
      "least squares fit: 100%|██████████| 5000/5000 [00:01<00:00, 2571.12it/s]\n"
     ]
    },
    {
     "data": {
      "text/plain": [
       "[-0.12199619076267744,\n",
       " 0.016802813554852872,\n",
       " 0.2688070851902832,\n",
       " 0.5571730898859688]"
      ]
     },
     "execution_count": 8,
     "metadata": {},
     "output_type": "execute_result"
    }
   ],
   "source": [
    "random.seed(0)\n",
    "learning_rate = 0.001\n",
    "\n",
    "beta = least_squares_fit(X_train, y_train, learning_rate, 5000, 25)\n",
    "beta"
   ]
  },
  {
   "cell_type": "code",
   "execution_count": 9,
   "metadata": {},
   "outputs": [],
   "source": [
    "from scratch.simple_linear_regression import total_sum_of_squares\n",
    "\n",
    "def multiple_r_squared(xs: List[Vector], ys: Vector, beta: Vector) -> float:\n",
    "    sum_of_squared_errors = sum(error(x, y, beta) ** 2 for x, y in zip(xs, ys))\n",
    "    return 1.0 - sum_of_squared_errors / total_sum_of_squares(ys)"
   ]
  },
  {
   "cell_type": "code",
   "execution_count": 10,
   "metadata": {},
   "outputs": [
    {
     "data": {
      "text/plain": [
       "0.9287975058358471"
      ]
     },
     "execution_count": 10,
     "metadata": {},
     "output_type": "execute_result"
    }
   ],
   "source": [
    "multiple_r_squared(X_train, y_train, beta)"
   ]
  },
  {
   "cell_type": "code",
   "execution_count": 11,
   "metadata": {},
   "outputs": [],
   "source": [
    "from typing import TypeVar, Callable\n",
    "\n",
    "X = TypeVar('X') # generic type for data\n",
    "Stat = TypeVar('Stat') # generic type for \"summary statistic\"\n",
    "\n",
    "def bootstrap_sample(data: List[X]) -> List[X]:\n",
    "    \"\"\"randomly samples len(data) elements with replacement\"\"\"\n",
    "    return [random.choice(data) for _ in data]\n",
    "\n",
    "def bootstrap_statistic(data: List[X], stats_fn: Callable[[List[X]], Stat], num_samples: int) -> List[Stat]:\n",
    "    \"\"\"evaluates stats_fn on num_samples bootstrap samples from data\"\"\"\n",
    "    return [stats_fn(bootstrap_sample(data)) for _ in range(num_samples)]"
   ]
  },
  {
   "cell_type": "code",
   "execution_count": 12,
   "metadata": {},
   "outputs": [],
   "source": [
    "# 101 points all very close to 100\n",
    "close_to_100 = [99.5 + random.random() for _ in range(101)]\n",
    "\n",
    "# 101 points, 50 of them near 0, 50 of them near 200\n",
    "far_from_100 = (\n",
    "    [99.5 + random.random()] +\n",
    "    [random.random() for _ in range(50)] +\n",
    "    [200 + random.random() for _ in range(50)]\n",
    ")"
   ]
  },
  {
   "cell_type": "code",
   "execution_count": 13,
   "metadata": {},
   "outputs": [
    {
     "data": {
      "text/plain": [
       "(0.028832812995301355, 94.42142291819658)"
      ]
     },
     "execution_count": 13,
     "metadata": {},
     "output_type": "execute_result"
    }
   ],
   "source": [
    "from scratch.statistic import median, standard_deviation\n",
    "\n",
    "medians_close = bootstrap_statistic(close_to_100, median, 100)\n",
    "medians_far = bootstrap_statistic(far_from_100, median, 100)\n",
    "\n",
    "sd_close = standard_deviation(medians_close)\n",
    "sd_far = standard_deviation(medians_far)\n",
    "sd_close, sd_far"
   ]
  },
  {
   "cell_type": "code",
   "execution_count": 14,
   "metadata": {},
   "outputs": [],
   "source": [
    "assert sd_close < 1\n",
    "assert sd_far > 90"
   ]
  },
  {
   "cell_type": "code",
   "execution_count": 15,
   "metadata": {},
   "outputs": [
    {
     "name": "stderr",
     "output_type": "stream",
     "text": [
      "least squares fit: 100%|██████████| 100/100 [00:00<00:00, 2293.61it/s]\n",
      "least squares fit: 100%|██████████| 100/100 [00:00<00:00, 2397.31it/s]\n",
      "least squares fit: 100%|██████████| 100/100 [00:00<00:00, 2607.18it/s]\n",
      "least squares fit: 100%|██████████| 100/100 [00:00<00:00, 2359.80it/s]\n",
      "least squares fit: 100%|██████████| 100/100 [00:00<00:00, 1957.59it/s]\n",
      "least squares fit: 100%|██████████| 100/100 [00:00<00:00, 1661.29it/s]\n",
      "least squares fit: 100%|██████████| 100/100 [00:00<00:00, 2158.15it/s]\n",
      "least squares fit: 100%|██████████| 100/100 [00:00<00:00, 2291.23it/s]\n",
      "least squares fit: 100%|██████████| 100/100 [00:00<00:00, 2398.43it/s]\n",
      "least squares fit: 100%|██████████| 100/100 [00:00<00:00, 1566.48it/s]\n",
      "least squares fit: 100%|██████████| 100/100 [00:00<00:00, 2180.18it/s]\n",
      "least squares fit: 100%|██████████| 100/100 [00:00<00:00, 2734.32it/s]\n",
      "least squares fit: 100%|██████████| 100/100 [00:00<00:00, 2718.70it/s]\n",
      "least squares fit: 100%|██████████| 100/100 [00:00<00:00, 2390.08it/s]\n",
      "least squares fit: 100%|██████████| 100/100 [00:00<00:00, 2377.18it/s]\n",
      "least squares fit: 100%|██████████| 100/100 [00:00<00:00, 2516.70it/s]\n",
      "least squares fit: 100%|██████████| 100/100 [00:00<00:00, 2403.72it/s]\n",
      "least squares fit: 100%|██████████| 100/100 [00:00<00:00, 2113.82it/s]\n",
      "least squares fit: 100%|██████████| 100/100 [00:00<00:00, 2076.85it/s]\n",
      "least squares fit: 100%|██████████| 100/100 [00:00<00:00, 2271.87it/s]\n",
      "least squares fit: 100%|██████████| 100/100 [00:00<00:00, 2425.97it/s]\n",
      "least squares fit: 100%|██████████| 100/100 [00:00<00:00, 2463.04it/s]\n",
      "least squares fit: 100%|██████████| 100/100 [00:00<00:00, 2367.14it/s]\n",
      "least squares fit: 100%|██████████| 100/100 [00:00<00:00, 2360.97it/s]\n",
      "least squares fit: 100%|██████████| 100/100 [00:00<00:00, 2255.73it/s]\n",
      "least squares fit: 100%|██████████| 100/100 [00:00<00:00, 2314.25it/s]\n",
      "least squares fit: 100%|██████████| 100/100 [00:00<00:00, 2442.58it/s]\n",
      "least squares fit: 100%|██████████| 100/100 [00:00<00:00, 2280.60it/s]\n",
      "least squares fit: 100%|██████████| 100/100 [00:00<00:00, 2181.96it/s]\n",
      "least squares fit: 100%|██████████| 100/100 [00:00<00:00, 2125.48it/s]\n",
      "least squares fit: 100%|██████████| 100/100 [00:00<00:00, 2641.78it/s]\n",
      "least squares fit: 100%|██████████| 100/100 [00:00<00:00, 2713.34it/s]\n",
      "least squares fit: 100%|██████████| 100/100 [00:00<00:00, 2484.72it/s]\n",
      "least squares fit: 100%|██████████| 100/100 [00:00<00:00, 2496.52it/s]\n",
      "least squares fit: 100%|██████████| 100/100 [00:00<00:00, 2497.75it/s]\n",
      "least squares fit: 100%|██████████| 100/100 [00:00<00:00, 2273.89it/s]\n",
      "least squares fit: 100%|██████████| 100/100 [00:00<00:00, 2393.07it/s]\n",
      "least squares fit: 100%|██████████| 100/100 [00:00<00:00, 2260.08it/s]\n",
      "least squares fit: 100%|██████████| 100/100 [00:00<00:00, 2270.30it/s]\n",
      "least squares fit: 100%|██████████| 100/100 [00:00<00:00, 2478.01it/s]\n",
      "least squares fit: 100%|██████████| 100/100 [00:00<00:00, 2307.55it/s]\n",
      "least squares fit: 100%|██████████| 100/100 [00:00<00:00, 2399.90it/s]\n",
      "least squares fit: 100%|██████████| 100/100 [00:00<00:00, 2296.65it/s]\n",
      "least squares fit: 100%|██████████| 100/100 [00:00<00:00, 1322.11it/s]\n",
      "least squares fit: 100%|██████████| 100/100 [00:00<00:00, 2145.07it/s]\n",
      "least squares fit: 100%|██████████| 100/100 [00:00<00:00, 2460.42it/s]\n",
      "least squares fit: 100%|██████████| 100/100 [00:00<00:00, 2349.24it/s]\n",
      "least squares fit: 100%|██████████| 100/100 [00:00<00:00, 2669.64it/s]\n",
      "least squares fit: 100%|██████████| 100/100 [00:00<00:00, 2763.14it/s]\n",
      "least squares fit: 100%|██████████| 100/100 [00:00<00:00, 2877.40it/s]\n",
      "least squares fit: 100%|██████████| 100/100 [00:00<00:00, 2895.80it/s]\n",
      "least squares fit: 100%|██████████| 100/100 [00:00<00:00, 2918.30it/s]\n",
      "least squares fit: 100%|██████████| 100/100 [00:00<00:00, 2819.11it/s]\n",
      "least squares fit: 100%|██████████| 100/100 [00:00<00:00, 2125.97it/s]\n",
      "least squares fit: 100%|██████████| 100/100 [00:00<00:00, 2581.84it/s]\n",
      "least squares fit: 100%|██████████| 100/100 [00:00<00:00, 2494.10it/s]\n",
      "least squares fit: 100%|██████████| 100/100 [00:00<00:00, 2495.30it/s]\n",
      "least squares fit: 100%|██████████| 100/100 [00:00<00:00, 2545.10it/s]\n",
      "least squares fit: 100%|██████████| 100/100 [00:00<00:00, 2569.41it/s]\n",
      "least squares fit: 100%|██████████| 100/100 [00:00<00:00, 2621.72it/s]\n",
      "least squares fit: 100%|██████████| 100/100 [00:00<00:00, 2670.24it/s]\n",
      "least squares fit: 100%|██████████| 100/100 [00:00<00:00, 2682.21it/s]\n",
      "least squares fit: 100%|██████████| 100/100 [00:00<00:00, 2576.91it/s]\n",
      "least squares fit: 100%|██████████| 100/100 [00:00<00:00, 2534.14it/s]\n",
      "least squares fit: 100%|██████████| 100/100 [00:00<00:00, 2556.07it/s]\n",
      "least squares fit: 100%|██████████| 100/100 [00:00<00:00, 2309.32it/s]\n",
      "least squares fit: 100%|██████████| 100/100 [00:00<00:00, 2195.28it/s]\n",
      "least squares fit: 100%|██████████| 100/100 [00:00<00:00, 2166.84it/s]\n",
      "least squares fit: 100%|██████████| 100/100 [00:00<00:00, 2068.46it/s]\n",
      "least squares fit: 100%|██████████| 100/100 [00:00<00:00, 2536.85it/s]\n",
      "least squares fit: 100%|██████████| 100/100 [00:00<00:00, 2666.67it/s]\n",
      "least squares fit: 100%|██████████| 100/100 [00:00<00:00, 2591.86it/s]\n",
      "least squares fit: 100%|██████████| 100/100 [00:00<00:00, 2708.08it/s]\n",
      "least squares fit: 100%|██████████| 100/100 [00:00<00:00, 2818.81it/s]\n",
      "least squares fit: 100%|██████████| 100/100 [00:00<00:00, 2673.85it/s]\n",
      "least squares fit: 100%|██████████| 100/100 [00:00<00:00, 2672.65it/s]\n",
      "least squares fit: 100%|██████████| 100/100 [00:00<00:00, 2274.86it/s]\n",
      "least squares fit: 100%|██████████| 100/100 [00:00<00:00, 2509.77it/s]\n",
      "least squares fit: 100%|██████████| 100/100 [00:00<00:00, 2768.44it/s]\n",
      "least squares fit: 100%|██████████| 100/100 [00:00<00:00, 2811.18it/s]\n",
      "least squares fit: 100%|██████████| 100/100 [00:00<00:00, 2987.50it/s]\n",
      "least squares fit: 100%|██████████| 100/100 [00:00<00:00, 2959.93it/s]\n",
      "least squares fit: 100%|██████████| 100/100 [00:00<00:00, 2665.01it/s]\n",
      "least squares fit: 100%|██████████| 100/100 [00:00<00:00, 2427.53it/s]\n",
      "least squares fit: 100%|██████████| 100/100 [00:00<00:00, 2679.88it/s]\n",
      "least squares fit: 100%|██████████| 100/100 [00:00<00:00, 2531.05it/s]\n",
      "least squares fit: 100%|██████████| 100/100 [00:00<00:00, 2742.83it/s]\n",
      "least squares fit: 100%|██████████| 100/100 [00:00<00:00, 2706.70it/s]\n",
      "least squares fit: 100%|██████████| 100/100 [00:00<00:00, 2721.42it/s]\n",
      "least squares fit: 100%|██████████| 100/100 [00:00<00:00, 2451.89it/s]\n",
      "least squares fit: 100%|██████████| 100/100 [00:00<00:00, 2598.01it/s]\n",
      "least squares fit: 100%|██████████| 100/100 [00:00<00:00, 2549.23it/s]\n",
      "least squares fit: 100%|██████████| 100/100 [00:00<00:00, 2767.55it/s]\n",
      "least squares fit: 100%|██████████| 100/100 [00:00<00:00, 2245.57it/s]\n",
      "least squares fit: 100%|██████████| 100/100 [00:00<00:00, 2559.59it/s]\n",
      "least squares fit: 100%|██████████| 100/100 [00:00<00:00, 2628.60it/s]\n",
      "least squares fit: 100%|██████████| 100/100 [00:00<00:00, 2746.60it/s]\n",
      "least squares fit: 100%|██████████| 100/100 [00:00<00:00, 2757.83it/s]\n",
      "least squares fit: 100%|██████████| 100/100 [00:00<00:00, 2848.73it/s]\n",
      "least squares fit: 100%|██████████| 100/100 [00:00<00:00, 2733.44it/s]\n"
     ]
    }
   ],
   "source": [
    "from typing import Tuple\n",
    "\n",
    "def estimate_sample_beta(pairs: List[Tuple[Vector, float]], learning_rate: float = 0.001, num_samples: int = 100, batch_size: int = 25) -> Vector:\n",
    "    x_sample = [x for x, _ in pairs]\n",
    "    y_sample = [y for _, y in pairs]\n",
    "    beta = least_squares_fit(x_sample, y_sample, learning_rate, num_samples, batch_size)\n",
    "    return beta\n",
    "\n",
    "random.seed(0) # so you get the same results as me\n",
    "\n",
    "# this will take a couple of minutes\n",
    "bootstrap_betas = bootstrap_statistic(list(zip(X_train, y_train)), estimate_sample_beta, 100)"
   ]
  },
  {
   "cell_type": "code",
   "execution_count": 16,
   "metadata": {},
   "outputs": [
    {
     "data": {
      "text/plain": [
       "[0.16215815563614788,\n",
       " 0.20398308599833306,\n",
       " 0.13859723244939398,\n",
       " 0.2549416238804269]"
      ]
     },
     "execution_count": 16,
     "metadata": {},
     "output_type": "execute_result"
    }
   ],
   "source": [
    "bootstrap_standard_errors = [\n",
    "    standard_deviation([beta[i] for beta in bootstrap_betas]) \n",
    "    for i in range(4)\n",
    "]\n",
    "bootstrap_standard_errors"
   ]
  },
  {
   "cell_type": "code",
   "execution_count": 17,
   "metadata": {},
   "outputs": [],
   "source": [
    "from scratch.probability import normal_cdf\n",
    "\n",
    "def p_value(beta_hat_j: float, sigma_hat_j: float) -> float:\n",
    "    if beta_hat_j > 0:\n",
    "        # if the coefficient is positive, we need to compute twice the probability of seeing an even *larger* value\n",
    "        return 2 * (1 - normal_cdf(beta_hat_j / sigma_hat_j))\n",
    "    else:\n",
    "        # otherwise twice the probability of seeing a *smaller* value\n",
    "        return 2 * normal_cdf(beta_hat_j / sigma_hat_j)\n",
    "\n",
    "assert p_value(30.58, 1.27)   < 0.001  # constant term \n",
    "assert p_value(0.972, 0.103)  < 0.001  # num_friends \n",
    "assert p_value(-1.865, 0.155) < 0.001  # work_hours \n",
    "assert p_value(0.923, 1.249)  > 0.4    # phd"
   ]
  },
  {
   "cell_type": "code",
   "execution_count": 18,
   "metadata": {},
   "outputs": [],
   "source": [
    "# alpha is a *hyperparameter* controlling how harsh the penalty is.\n",
    "# Sometimes it's called \"lambda\" but that already means something in Python\n",
    "def ridge_penalty(beta: Vector, alpha: float) -> float:\n",
    "    return alpha * dot(beta[1:], beta[1:])\n",
    "\n",
    "def squared_error_ridge(x: Vector, y: float, beta: Vector, alpha: float) -> float:\n",
    "    \"\"\"estimate error plus ridge penalty on beta\"\"\"\n",
    "    return error(x, y, beta) ** 2 + ridge_penalty(beta, alpha)"
   ]
  },
  {
   "cell_type": "code",
   "execution_count": null,
   "metadata": {},
   "outputs": [],
   "source": [
    "from scratch.linear_algebra import add\n",
    "\n",
    "def ridge_penalty_gradient(beta: Vector, alpha: float) -> Vector:\n",
    "    \"\"\"gradient of just the ridge penalty\"\"\"\n",
    "    return [0.] + [2 * alpha * beta_j for beta_j in beta[1:]]"
   ]
  }
 ],
 "metadata": {
  "kernelspec": {
   "display_name": "data_science_from_scratch",
   "language": "python",
   "name": "python3"
  },
  "language_info": {
   "codemirror_mode": {
    "name": "ipython",
    "version": 3
   },
   "file_extension": ".py",
   "mimetype": "text/x-python",
   "name": "python",
   "nbconvert_exporter": "python",
   "pygments_lexer": "ipython3",
   "version": "3.12.0"
  }
 },
 "nbformat": 4,
 "nbformat_minor": 2
}
