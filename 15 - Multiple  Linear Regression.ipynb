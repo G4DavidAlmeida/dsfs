{
 "cells": [
  {
   "cell_type": "code",
   "execution_count": 1,
   "metadata": {},
   "outputs": [],
   "source": [
    "from scratch.linear_algebra import Vector, dot\n",
    "\n",
    "def predict(x: Vector, beta: Vector) -> float:\n",
    "    return dot(x, beta)"
   ]
  },
  {
   "cell_type": "code",
   "execution_count": 2,
   "metadata": {},
   "outputs": [],
   "source": [
    "from typing import List\n",
    "\n",
    "def error(x: Vector, y: float, beta: Vector) -> float:\n",
    "    return predict(x, beta) - y\n",
    "\n",
    "def squared_error(x: Vector, y: float, beta: Vector) -> float:\n",
    "    return error(x, y, beta) ** 2\n",
    "\n",
    "x = [1, 2, 3]\n",
    "y = 30\n",
    "beta = [4, 4, 4] # so prediction = 4 + 8 + 12 = 24\n",
    "\n",
    "assert error(x, y, beta) == -6\n",
    "assert squared_error(x, y, beta) == 36"
   ]
  },
  {
   "cell_type": "code",
   "execution_count": 3,
   "metadata": {},
   "outputs": [],
   "source": [
    "def sqerror_gradient(x: Vector, y: float, beta: Vector) -> Vector:\n",
    "    err = error(x, y, beta)\n",
    "    return [2 * err * x_i for x_i in x]\n",
    "\n",
    "assert sqerror_gradient(x, y, beta) == [-12, -24, -36]"
   ]
  },
  {
   "cell_type": "code",
   "execution_count": 4,
   "metadata": {},
   "outputs": [],
   "source": [
    "import random\n",
    "import tqdm \n",
    "from scratch.linear_algebra import vector_mean\n",
    "from scratch.gradient_descent import gradient_step\n",
    "\n",
    "def least_squares_fit(xs: List[Vector], ys: List[float], learning_rate: float = 0.001, num_steps: int = 1000, batch_size: int = 1) -> Vector:\n",
    "    # Start with a random guess\n",
    "    guess = [random.random() for _ in xs[0]]\n",
    "    for _ in tqdm.trange(num_steps, desc=\"least squares fit\"):\n",
    "        for start in range(0, len(xs), batch_size):\n",
    "            batch_xs = xs[start:start+batch_size]\n",
    "            batch_ys = ys[start:start+batch_size]\n",
    "\n",
    "            gradient = vector_mean([sqerror_gradient(x, y, guess) for x, y in zip(batch_xs, batch_ys)])\n",
    "            guess = gradient_step(guess, gradient, -learning_rate)\n",
    "    return guess"
   ]
  },
  {
   "cell_type": "code",
   "execution_count": 5,
   "metadata": {},
   "outputs": [],
   "source": [
    "from pathlib import Path\n",
    "\n",
    "iris_dataset_file = Path() / 'datasets' / 'iris.dat'\n",
    "assert iris_dataset_file.is_file(), f'{iris_dataset_file} not found'"
   ]
  },
  {
   "cell_type": "code",
   "execution_count": 6,
   "metadata": {},
   "outputs": [],
   "source": [
    "import csv\n",
    "\n",
    "y_map = {'Iris-setosa': 0, 'Iris-versicolor': 1, 'Iris-virginica': 2}\n",
    "X, y = [], []\n",
    "with iris_dataset_file.open('r') as f:\n",
    "    reader = csv.reader(f)\n",
    "    for row in reader:\n",
    "        if row:\n",
    "            X.append([float(cell) for cell in row[:-1]])\n",
    "            y.append(y_map[row[-1]])"
   ]
  },
  {
   "cell_type": "code",
   "execution_count": 7,
   "metadata": {},
   "outputs": [],
   "source": [
    "from scratch.machine_learning import train_test_split\n",
    "\n",
    "X_train, X_test, y_train, y_test = train_test_split(X, y, test_pct=0.25)"
   ]
  },
  {
   "cell_type": "code",
   "execution_count": 8,
   "metadata": {},
   "outputs": [
    {
     "name": "stderr",
     "output_type": "stream",
     "text": [
      "least squares fit: 100%|██████████| 5000/5000 [00:00<00:00, 7992.73it/s]\n"
     ]
    },
    {
     "data": {
      "text/plain": [
       "[-0.10353297467815974,\n",
       " -0.003806718929497659,\n",
       " 0.24867082340327806,\n",
       " 0.5516033755924058]"
      ]
     },
     "execution_count": 8,
     "metadata": {},
     "output_type": "execute_result"
    }
   ],
   "source": [
    "random.seed(0)\n",
    "learning_rate = 0.001\n",
    "\n",
    "beta = least_squares_fit(X_train, y_train, learning_rate, 5000, 25)\n",
    "beta"
   ]
  },
  {
   "cell_type": "code",
   "execution_count": 9,
   "metadata": {},
   "outputs": [],
   "source": [
    "from scratch.simple_linear_regression import total_sum_of_squares\n",
    "\n",
    "def multiple_r_squared(xs: List[Vector], ys: Vector, beta: Vector) -> float:\n",
    "    sum_of_squared_errors = sum(error(x, y, beta) ** 2 for x, y in zip(xs, ys))\n",
    "    return 1.0 - sum_of_squared_errors / total_sum_of_squares(ys)"
   ]
  },
  {
   "cell_type": "code",
   "execution_count": 10,
   "metadata": {},
   "outputs": [
    {
     "data": {
      "text/plain": [
       "0.923482660503906"
      ]
     },
     "execution_count": 10,
     "metadata": {},
     "output_type": "execute_result"
    }
   ],
   "source": [
    "multiple_r_squared(X_train, y_train, beta)"
   ]
  },
  {
   "cell_type": "code",
   "execution_count": 11,
   "metadata": {},
   "outputs": [],
   "source": [
    "from typing import TypeVar, Callable\n",
    "\n",
    "X = TypeVar('X') # generic type for data\n",
    "Stat = TypeVar('Stat') # generic type for \"summary statistic\"\n",
    "\n",
    "def bootstrap_sample(data: List[X]) -> List[X]:\n",
    "    \"\"\"randomly samples len(data) elements with replacement\"\"\"\n",
    "    return [random.choice(data) for _ in data]\n",
    "\n",
    "def bootstrap_statistic(data: List[X], stats_fn: Callable[[List[X]], Stat], num_samples: int) -> List[Stat]:\n",
    "    \"\"\"evaluates stats_fn on num_samples bootstrap samples from data\"\"\"\n",
    "    return [stats_fn(bootstrap_sample(data)) for _ in range(num_samples)]"
   ]
  },
  {
   "cell_type": "code",
   "execution_count": 12,
   "metadata": {},
   "outputs": [],
   "source": [
    "# 101 points all very close to 100\n",
    "close_to_100 = [99.5 + random.random() for _ in range(101)]\n",
    "\n",
    "# 101 points, 50 of them near 0, 50 of them near 200\n",
    "far_from_100 = (\n",
    "    [99.5 + random.random()] +\n",
    "    [random.random() for _ in range(50)] +\n",
    "    [200 + random.random() for _ in range(50)]\n",
    ")"
   ]
  },
  {
   "cell_type": "code",
   "execution_count": 13,
   "metadata": {},
   "outputs": [
    {
     "data": {
      "text/plain": [
       "(0.028832812995301355, 94.42142291819658)"
      ]
     },
     "execution_count": 13,
     "metadata": {},
     "output_type": "execute_result"
    }
   ],
   "source": [
    "from scratch.statistic import median, standard_deviation\n",
    "\n",
    "medians_close = bootstrap_statistic(close_to_100, median, 100)\n",
    "medians_far = bootstrap_statistic(far_from_100, median, 100)\n",
    "\n",
    "sd_close = standard_deviation(medians_close)\n",
    "sd_far = standard_deviation(medians_far)\n",
    "sd_close, sd_far"
   ]
  },
  {
   "cell_type": "code",
   "execution_count": 14,
   "metadata": {},
   "outputs": [],
   "source": [
    "assert sd_close < 1\n",
    "assert sd_far > 90"
   ]
  },
  {
   "cell_type": "code",
   "execution_count": 15,
   "metadata": {},
   "outputs": [
    {
     "name": "stderr",
     "output_type": "stream",
     "text": [
      "least squares fit: 100%|██████████| 100/100 [00:00<00:00, 8199.21it/s]\n",
      "least squares fit: 100%|██████████| 100/100 [00:00<00:00, 7893.67it/s]\n",
      "least squares fit: 100%|██████████| 100/100 [00:00<00:00, 6716.37it/s]\n",
      "least squares fit: 100%|██████████| 100/100 [00:00<00:00, 8147.76it/s]\n",
      "least squares fit: 100%|██████████| 100/100 [00:00<00:00, 8194.72it/s]\n",
      "least squares fit: 100%|██████████| 100/100 [00:00<00:00, 7992.65it/s]\n",
      "least squares fit: 100%|██████████| 100/100 [00:00<00:00, 8523.45it/s]\n",
      "least squares fit: 100%|██████████| 100/100 [00:00<00:00, 8396.50it/s]\n",
      "least squares fit: 100%|██████████| 100/100 [00:00<00:00, 8230.10it/s]\n",
      "least squares fit: 100%|██████████| 100/100 [00:00<00:00, 8551.78it/s]\n",
      "least squares fit: 100%|██████████| 100/100 [00:00<00:00, 8210.28it/s]\n",
      "least squares fit: 100%|██████████| 100/100 [00:00<00:00, 8471.12it/s]\n",
      "least squares fit: 100%|██████████| 100/100 [00:00<00:00, 7700.92it/s]\n",
      "least squares fit: 100%|██████████| 100/100 [00:00<00:00, 7154.83it/s]\n",
      "least squares fit: 100%|██████████| 100/100 [00:00<00:00, 6910.01it/s]\n",
      "least squares fit: 100%|██████████| 100/100 [00:00<00:00, 7155.93it/s]\n",
      "least squares fit: 100%|██████████| 100/100 [00:00<00:00, 6048.28it/s]\n",
      "least squares fit: 100%|██████████| 100/100 [00:00<00:00, 7307.15it/s]\n",
      "least squares fit: 100%|██████████| 100/100 [00:00<00:00, 7766.65it/s]\n",
      "least squares fit: 100%|██████████| 100/100 [00:00<00:00, 7278.74it/s]\n",
      "least squares fit: 100%|██████████| 100/100 [00:00<00:00, 8037.84it/s]\n",
      "least squares fit: 100%|██████████| 100/100 [00:00<00:00, 7485.82it/s]\n",
      "least squares fit: 100%|██████████| 100/100 [00:00<00:00, 8285.54it/s]\n",
      "least squares fit: 100%|██████████| 100/100 [00:00<00:00, 8484.14it/s]\n",
      "least squares fit: 100%|██████████| 100/100 [00:00<00:00, 7644.77it/s]\n",
      "least squares fit: 100%|██████████| 100/100 [00:00<00:00, 7891.74it/s]\n",
      "least squares fit: 100%|██████████| 100/100 [00:00<00:00, 8524.32it/s]\n",
      "least squares fit: 100%|██████████| 100/100 [00:00<00:00, 8230.10it/s]\n",
      "least squares fit: 100%|██████████| 100/100 [00:00<00:00, 8162.67it/s]\n",
      "least squares fit: 100%|██████████| 100/100 [00:00<00:00, 8229.93it/s]\n",
      "least squares fit: 100%|██████████| 100/100 [00:00<00:00, 8299.64it/s]\n",
      "least squares fit: 100%|██████████| 100/100 [00:00<00:00, 8227.03it/s]\n",
      "least squares fit: 100%|██████████| 100/100 [00:00<00:00, 8220.26it/s]\n",
      "least squares fit: 100%|██████████| 100/100 [00:00<00:00, 6657.31it/s]\n",
      "least squares fit: 100%|██████████| 100/100 [00:00<00:00, 8234.14it/s]\n",
      "least squares fit: 100%|██████████| 100/100 [00:00<00:00, 7480.08it/s]\n",
      "least squares fit: 100%|██████████| 100/100 [00:00<00:00, 8006.69it/s]\n",
      "least squares fit: 100%|██████████| 100/100 [00:00<00:00, 7231.68it/s]\n",
      "least squares fit: 100%|██████████| 100/100 [00:00<00:00, 8274.42it/s]\n",
      "least squares fit: 100%|██████████| 100/100 [00:00<00:00, 8012.20it/s]\n",
      "least squares fit: 100%|██████████| 100/100 [00:00<00:00, 5935.39it/s]\n",
      "least squares fit: 100%|██████████| 100/100 [00:00<00:00, 8090.08it/s]\n",
      "least squares fit: 100%|██████████| 100/100 [00:00<00:00, 8300.95it/s]\n",
      "least squares fit: 100%|██████████| 100/100 [00:00<00:00, 8383.91it/s]\n",
      "least squares fit: 100%|██████████| 100/100 [00:00<00:00, 8066.90it/s]\n",
      "least squares fit: 100%|██████████| 100/100 [00:00<00:00, 8527.61it/s]\n",
      "least squares fit: 100%|██████████| 100/100 [00:00<00:00, 8522.93it/s]\n",
      "least squares fit: 100%|██████████| 100/100 [00:00<00:00, 8567.50it/s]\n",
      "least squares fit: 100%|██████████| 100/100 [00:00<00:00, 8421.79it/s]\n",
      "least squares fit: 100%|██████████| 100/100 [00:00<00:00, 8179.06it/s]\n",
      "least squares fit: 100%|██████████| 100/100 [00:00<00:00, 7567.39it/s]\n",
      "least squares fit: 100%|██████████| 100/100 [00:00<00:00, 8344.55it/s]\n",
      "least squares fit: 100%|██████████| 100/100 [00:00<00:00, 8453.53it/s]\n",
      "least squares fit: 100%|██████████| 100/100 [00:00<00:00, 8120.16it/s]\n",
      "least squares fit: 100%|██████████| 100/100 [00:00<00:00, 7777.02it/s]\n",
      "least squares fit: 100%|██████████| 100/100 [00:00<00:00, 7832.21it/s]\n",
      "least squares fit: 100%|██████████| 100/100 [00:00<00:00, 6926.44it/s]\n",
      "least squares fit: 100%|██████████| 100/100 [00:00<00:00, 8317.08it/s]\n",
      "least squares fit: 100%|██████████| 100/100 [00:00<00:00, 4724.27it/s]\n",
      "least squares fit: 100%|██████████| 100/100 [00:00<00:00, 6482.39it/s]\n",
      "least squares fit: 100%|██████████| 100/100 [00:00<00:00, 7283.55it/s]\n",
      "least squares fit: 100%|██████████| 100/100 [00:00<00:00, 8516.87it/s]\n",
      "least squares fit: 100%|██████████| 100/100 [00:00<00:00, 8619.79it/s]\n",
      "least squares fit: 100%|██████████| 100/100 [00:00<00:00, 8350.20it/s]\n",
      "least squares fit: 100%|██████████| 100/100 [00:00<00:00, 7726.74it/s]\n",
      "least squares fit: 100%|██████████| 100/100 [00:00<00:00, 7712.67it/s]\n",
      "least squares fit: 100%|██████████| 100/100 [00:00<00:00, 8437.89it/s]\n",
      "least squares fit: 100%|██████████| 100/100 [00:00<00:00, 8220.10it/s]\n",
      "least squares fit: 100%|██████████| 100/100 [00:00<00:00, 8339.41it/s]\n",
      "least squares fit: 100%|██████████| 100/100 [00:00<00:00, 8418.24it/s]\n",
      "least squares fit: 100%|██████████| 100/100 [00:00<00:00, 8053.58it/s]\n",
      "least squares fit: 100%|██████████| 100/100 [00:00<00:00, 8419.25it/s]\n",
      "least squares fit: 100%|██████████| 100/100 [00:00<00:00, 7923.35it/s]\n",
      "least squares fit: 100%|██████████| 100/100 [00:00<00:00, 8228.80it/s]\n",
      "least squares fit: 100%|██████████| 100/100 [00:00<00:00, 7569.17it/s]\n",
      "least squares fit: 100%|██████████| 100/100 [00:00<00:00, 7504.57it/s]\n",
      "least squares fit: 100%|██████████| 100/100 [00:00<00:00, 7895.16it/s]\n",
      "least squares fit: 100%|██████████| 100/100 [00:00<00:00, 7570.67it/s]\n",
      "least squares fit: 100%|██████████| 100/100 [00:00<00:00, 8064.57it/s]\n",
      "least squares fit: 100%|██████████| 100/100 [00:00<00:00, 8201.45it/s]\n",
      "least squares fit: 100%|██████████| 100/100 [00:00<00:00, 7802.20it/s]\n",
      "least squares fit: 100%|██████████| 100/100 [00:00<00:00, 8284.06it/s]\n",
      "least squares fit: 100%|██████████| 100/100 [00:00<00:00, 7842.17it/s]\n",
      "least squares fit: 100%|██████████| 100/100 [00:00<00:00, 7147.51it/s]\n",
      "least squares fit: 100%|██████████| 100/100 [00:00<00:00, 8115.60it/s]\n",
      "least squares fit: 100%|██████████| 100/100 [00:00<00:00, 8284.72it/s]\n",
      "least squares fit: 100%|██████████| 100/100 [00:00<00:00, 8424.67it/s]\n",
      "least squares fit: 100%|██████████| 100/100 [00:00<00:00, 8483.11it/s]\n",
      "least squares fit: 100%|██████████| 100/100 [00:00<00:00, 7936.24it/s]\n",
      "least squares fit: 100%|██████████| 100/100 [00:00<00:00, 7645.61it/s]\n",
      "least squares fit: 100%|██████████| 100/100 [00:00<00:00, 7713.66it/s]\n",
      "least squares fit: 100%|██████████| 100/100 [00:00<00:00, 7678.50it/s]\n",
      "least squares fit: 100%|██████████| 100/100 [00:00<00:00, 7931.29it/s]\n",
      "least squares fit: 100%|██████████| 100/100 [00:00<00:00, 7879.14it/s]\n",
      "least squares fit: 100%|██████████| 100/100 [00:00<00:00, 7881.66it/s]\n",
      "least squares fit: 100%|██████████| 100/100 [00:00<00:00, 8190.08it/s]\n",
      "least squares fit: 100%|██████████| 100/100 [00:00<00:00, 8066.74it/s]\n",
      "least squares fit: 100%|██████████| 100/100 [00:00<00:00, 7609.54it/s]\n",
      "least squares fit: 100%|██████████| 100/100 [00:00<00:00, 7165.22it/s]\n",
      "least squares fit: 100%|██████████| 100/100 [00:00<00:00, 8020.78it/s]\n"
     ]
    }
   ],
   "source": [
    "from typing import Tuple\n",
    "\n",
    "def estimate_sample_beta(pairs: List[Tuple[Vector, float]], learning_rate: float = 0.001, num_samples: int = 100, batch_size: int = 25) -> Vector:\n",
    "    x_sample = [x for x, _ in pairs]\n",
    "    y_sample = [y for _, y in pairs]\n",
    "    beta = least_squares_fit(x_sample, y_sample, learning_rate, num_samples, batch_size)\n",
    "    return beta\n",
    "\n",
    "random.seed(0) # so you get the same results as me\n",
    "\n",
    "# this will take a couple of minutes\n",
    "bootstrap_betas = bootstrap_statistic(list(zip(X_train, y_train)), estimate_sample_beta, 100)"
   ]
  },
  {
   "cell_type": "code",
   "execution_count": 16,
   "metadata": {},
   "outputs": [
    {
     "data": {
      "text/plain": [
       "[0.1624158650148389,\n",
       " 0.20342366422070915,\n",
       " 0.13976766295331963,\n",
       " 0.2545422397168833]"
      ]
     },
     "execution_count": 16,
     "metadata": {},
     "output_type": "execute_result"
    }
   ],
   "source": [
    "bootstrap_standard_errors = [\n",
    "    standard_deviation([beta[i] for beta in bootstrap_betas]) \n",
    "    for i in range(4)\n",
    "]\n",
    "bootstrap_standard_errors"
   ]
  },
  {
   "cell_type": "code",
   "execution_count": 17,
   "metadata": {},
   "outputs": [],
   "source": [
    "from scratch.probability import normal_cdf\n",
    "\n",
    "def p_value(beta_hat_j: float, sigma_hat_j: float) -> float:\n",
    "    if beta_hat_j > 0:\n",
    "        # if the coefficient is positive, we need to compute twice the probability of seeing an even *larger* value\n",
    "        return 2 * (1 - normal_cdf(beta_hat_j / sigma_hat_j))\n",
    "    else:\n",
    "        # otherwise twice the probability of seeing a *smaller* value\n",
    "        return 2 * normal_cdf(beta_hat_j / sigma_hat_j)\n",
    "\n",
    "assert p_value(30.58, 1.27)   < 0.001  # constant term\n",
    "assert p_value(0.972, 0.103)  < 0.001  # num_friends\n",
    "assert p_value(-1.865, 0.155) < 0.001  # work_hours\n",
    "assert p_value(0.923, 1.249)  > 0.4    # phd"
   ]
  },
  {
   "cell_type": "code",
   "execution_count": 18,
   "metadata": {},
   "outputs": [],
   "source": [
    "# alpha is a *hyperparameter* controlling how harsh the penalty is.\n",
    "# Sometimes it's called \"lambda\" but that already means something in Python\n",
    "def ridge_penalty(beta: Vector, alpha: float) -> float:\n",
    "    return alpha * dot(beta[1:], beta[1:])\n",
    "\n",
    "def squared_error_ridge(x: Vector, y: float, beta: Vector, alpha: float) -> float:\n",
    "    \"\"\"estimate error plus ridge penalty on beta\"\"\"\n",
    "    return error(x, y, beta) ** 2 + ridge_penalty(beta, alpha)"
   ]
  },
  {
   "cell_type": "code",
   "execution_count": 19,
   "metadata": {},
   "outputs": [],
   "source": [
    "from scratch.linear_algebra import add\n",
    "\n",
    "def ridge_penalty_gradient(beta: Vector, alpha: float) -> Vector:\n",
    "    \"\"\"gradient of just the ridge penalty\"\"\"\n",
    "    return [0.] + [2 * alpha * beta_j for beta_j in beta[1:]]\n",
    "\n",
    "def sqerror_ridge_gradient(x: Vector, y: float, beta: Vector, alpha: float) -> Vector:\n",
    "    \"\"\"the gradient corresponding to the ith squared error term including the ridge penalty\"\"\"\n",
    "    return add(sqerror_gradient(x, y, beta), ridge_penalty_gradient(beta, alpha))"
   ]
  },
  {
   "cell_type": "code",
   "execution_count": 20,
   "metadata": {},
   "outputs": [],
   "source": [
    "def least_squares_fit_ridget(xs: List[Vector], ys: List[float], learning_rate: float = 0.001, num_steps: int = 1000, batch_size: int = 1, alpha: float = 0.0) -> Vector:\n",
    "    # Start with a random guess\n",
    "    guess = [random.random() for _ in xs[0]]\n",
    "    for _ in tqdm.trange(num_steps, desc=\"least squares fit\"):\n",
    "        for start in range(0, len(xs), batch_size):\n",
    "            batch_xs = xs[start:start+batch_size]\n",
    "            batch_ys = ys[start:start+batch_size]\n",
    "\n",
    "            gradient = vector_mean([sqerror_ridge_gradient(x, y, guess, alpha) for x, y in zip(batch_xs, batch_ys)])\n",
    "            guess = gradient_step(guess, gradient, -learning_rate)\n",
    "    return guess"
   ]
  },
  {
   "cell_type": "code",
   "execution_count": 27,
   "metadata": {},
   "outputs": [
    {
     "name": "stderr",
     "output_type": "stream",
     "text": [
      "least squares fit: 100%|██████████| 5000/5000 [00:01<00:00, 4818.07it/s]\n"
     ]
    },
    {
     "data": {
      "text/plain": [
       "[-0.10353297467815974,\n",
       " -0.003806718929497659,\n",
       " 0.24867082340327806,\n",
       " 0.5516033755924058]"
      ]
     },
     "execution_count": 27,
     "metadata": {},
     "output_type": "execute_result"
    }
   ],
   "source": [
    "random.seed(0)\n",
    "beta_0 = least_squares_fit_ridget(\n",
    "    X_train, y_train, alpha=0.0,\n",
    "    learning_rate=learning_rate,\n",
    "    num_steps=5000, batch_size=25)\n",
    "beta_0"
   ]
  },
  {
   "cell_type": "code",
   "execution_count": 28,
   "metadata": {},
   "outputs": [
    {
     "name": "stderr",
     "output_type": "stream",
     "text": [
      "least squares fit: 100%|██████████| 5000/5000 [00:01<00:00, 4881.05it/s]\n",
      "least squares fit: 100%|██████████| 5000/5000 [00:01<00:00, 4903.60it/s]\n",
      "least squares fit: 100%|██████████| 5000/5000 [00:01<00:00, 4861.85it/s]\n"
     ]
    }
   ],
   "source": [
    "beta_0_1 = least_squares_fit_ridget(\n",
    "    X_train, y_train, alpha=0.1,\n",
    "    learning_rate=learning_rate,\n",
    "    num_steps=5000, batch_size=25)\n",
    "\n",
    "beta_1 = least_squares_fit_ridget(\n",
    "    X_train, y_train, alpha=1,\n",
    "    learning_rate=learning_rate,\n",
    "    num_steps=5000, batch_size=25)\n",
    "\n",
    "beta_10 = least_squares_fit_ridget(\n",
    "    X_train, y_train, alpha=10,\n",
    "    learning_rate=learning_rate,\n",
    "    num_steps=5000, batch_size=25)"
   ]
  },
  {
   "cell_type": "code",
   "execution_count": 30,
   "metadata": {},
   "outputs": [
    {
     "data": {
      "image/png": "[encoded data removed]",
      "text/plain": [
       "<Figure size 640x480 with 1 Axes>"
      ]
     },
     "metadata": {},
     "output_type": "display_data"
    }
   ],
   "source": [
    "import matplotlib.pyplot as plt\n",
    "\n",
    "# Define the labels and values\n",
    "labels = ['beta_0', 'beta_0_1', 'beta_1', 'beta_10']\n",
    "beta_values = [beta_0, beta_0_1, beta_1, beta_10]\n",
    "\n",
    "# Create a bar chart\n",
    "x = range(len(labels))\n",
    "fig, ax = plt.subplots()\n",
    "for i, beta in enumerate(beta_values):\n",
    "    ax.bar([p + i * 0.2 for p in x], beta, width=0.2, label=labels[i])\n",
    "\n",
    "# Add labels and title\n",
    "ax.set_xlabel('Beta Index')\n",
    "ax.set_ylabel('Beta Value')\n",
    "ax.set_title('Beta Values Comparison')\n",
    "ax.set_xticks([p + 0.3 for p in x])\n",
    "ax.set_xticklabels(['0', '1', '2', '3'])\n",
    "ax.legend()\n",
    "\n",
    "# Show the plot\n",
    "plt.show()"
   ]
  },
  {
   "cell_type": "code",
   "execution_count": null,
   "metadata": {},
   "outputs": [],
   "source": [
    "def lasso_penalty(beta, alpha):\n",
    "    return alpha * sum(abs(beta_i) for beta_i in beta[1:])"
   ]
  }
 ],
 "metadata": {
  "kernelspec": {
   "display_name": "data_science_from_scratch_3.12.2",
   "language": "python",
   "name": "python3"
  },
  "language_info": {
   "codemirror_mode": {
    "name": "ipython",
    "version": 3
   },
   "file_extension": ".py",
   "mimetype": "text/x-python",
   "name": "python",
   "nbconvert_exporter": "python",
   "pygments_lexer": "ipython3",
   "version": "3.12.2"
  }
 },
 "nbformat": 4,
 "nbformat_minor": 2
}
