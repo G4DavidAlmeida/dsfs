{
 "cells": [
  {
   "cell_type": "code",
   "execution_count": 1,
   "metadata": {},
   "outputs": [],
   "source": [
    "from scratch.linear_algebra import Vector, dot\n",
    "\n",
    "def predict(x: Vector, beta: Vector) -> float:\n",
    "    return dot(x, beta)"
   ]
  },
  {
   "cell_type": "code",
   "execution_count": 2,
   "metadata": {},
   "outputs": [],
   "source": [
    "from typing import List\n",
    "\n",
    "def error(x: Vector, y: float, beta: Vector) -> float:\n",
    "    return predict(x, beta) - y\n",
    "\n",
    "def squared_error(x: Vector, y: float, beta: Vector) -> float:\n",
    "    return error(x, y, beta) ** 2\n",
    "\n",
    "x = [1, 2, 3]\n",
    "y = 30\n",
    "beta = [4, 4, 4] # so prediction = 4 + 8 + 12 = 24\n",
    "\n",
    "assert error(x, y, beta) == -6\n",
    "assert squared_error(x, y, beta) == 36"
   ]
  },
  {
   "cell_type": "code",
   "execution_count": 3,
   "metadata": {},
   "outputs": [],
   "source": [
    "def sqerror_gradient(x: Vector, y: float, beta: Vector) -> Vector:\n",
    "    err = error(x, y, beta)\n",
    "    return [2 * err * x_i for x_i in x]\n",
    "\n",
    "assert sqerror_gradient(x, y, beta) == [-12, -24, -36]"
   ]
  },
  {
   "cell_type": "code",
   "execution_count": 4,
   "metadata": {},
   "outputs": [],
   "source": [
    "import random\n",
    "import tqdm \n",
    "from scratch.linear_algebra import vector_mean\n",
    "from scratch.gradient_descent import gradient_step\n",
    "\n",
    "def least_squares_fit(xs: List[Vector], ys: List[float], learning_rate: float = 0.001, num_steps: int = 1000, batch_size: int = 1) -> Vector:\n",
    "    # Start with a random guess\n",
    "    guess = [random.random() for _ in xs[0]]\n",
    "    for _ in tqdm.trange(num_steps, desc=\"least squares fit\"):\n",
    "        for start in range(0, len(xs), batch_size):\n",
    "            batch_xs = xs[start:start+batch_size]\n",
    "            batch_ys = ys[start:start+batch_size]\n",
    "\n",
    "            gradient = vector_mean([sqerror_gradient(x, y, guess) for x, y in zip(batch_xs, batch_ys)])\n",
    "            guess = gradient_step(guess, gradient, -learning_rate)\n",
    "    return guess"
   ]
  },
  {
   "cell_type": "code",
   "execution_count": 5,
   "metadata": {},
   "outputs": [
    {
     "name": "stdout",
     "output_type": "stream",
     "text": [
      "Warning: Looks like you're using an outdated `kagglehub` version, please consider updating (latest version: 0.3.7)\n"
     ]
    }
   ],
   "source": [
    "from scratch.datasets.kanggle import KanggleDatasets\n",
    "\n",
    "datasets = KanggleDatasets()\n",
    "iris_dataset_file = datasets.iris_dataset.iris_csv"
   ]
  },
  {
   "cell_type": "code",
   "execution_count": 6,
   "metadata": {},
   "outputs": [],
   "source": [
    "import csv\n",
    "\n",
    "y_map = {'Iris-setosa': 0, 'Iris-versicolor': 1, 'Iris-virginica': 2}\n",
    "X, y = [], []\n",
    "with iris_dataset_file.open('r') as f:\n",
    "    reader = csv.reader(f)\n",
    "    for row in reader:\n",
    "        if row and row[0] != 'Id':\n",
    "            X.append([float(cell) for cell in row[1:-1]])\n",
    "            y.append(y_map[row[-1]])"
   ]
  },
  {
   "cell_type": "code",
   "execution_count": 7,
   "metadata": {},
   "outputs": [],
   "source": [
    "from scratch.machine_learning import train_test_split\n",
    "\n",
    "X_train, X_test, y_train, y_test = train_test_split(X, y, test_pct=0.25)"
   ]
  },
  {
   "cell_type": "code",
   "execution_count": 8,
   "metadata": {},
   "outputs": [
    {
     "name": "stderr",
     "output_type": "stream",
     "text": [
      "least squares fit: 100%|██████████| 5000/5000 [00:00<00:00, 8089.49it/s]\n"
     ]
    },
    {
     "data": {
      "text/plain": [
       "[-0.09434208320812382,\n",
       " -0.015662773363378093,\n",
       " 0.24752220388611262,\n",
       " 0.5724968705267163]"
      ]
     },
     "execution_count": 8,
     "metadata": {},
     "output_type": "execute_result"
    }
   ],
   "source": [
    "random.seed(0)\n",
    "learning_rate = 0.001\n",
    "\n",
    "beta = least_squares_fit(X_train, y_train, learning_rate, 5000, 25)\n",
    "beta"
   ]
  },
  {
   "cell_type": "code",
   "execution_count": 9,
   "metadata": {},
   "outputs": [],
   "source": [
    "from scratch.simple_linear_regression import total_sum_of_squares\n",
    "\n",
    "def multiple_r_squared(xs: List[Vector], ys: Vector, beta: Vector) -> float:\n",
    "    sum_of_squared_errors = sum(error(x, y, beta) ** 2 for x, y in zip(xs, ys))\n",
    "    return 1.0 - sum_of_squared_errors / total_sum_of_squares(ys)"
   ]
  },
  {
   "cell_type": "code",
   "execution_count": 10,
   "metadata": {},
   "outputs": [
    {
     "data": {
      "text/plain": [
       "0.9293859958576738"
      ]
     },
     "execution_count": 10,
     "metadata": {},
     "output_type": "execute_result"
    }
   ],
   "source": [
    "multiple_r_squared(X_train, y_train, beta)"
   ]
  },
  {
   "cell_type": "code",
   "execution_count": 11,
   "metadata": {},
   "outputs": [],
   "source": [
    "from typing import TypeVar, Callable\n",
    "\n",
    "X = TypeVar('X') # generic type for data\n",
    "Stat = TypeVar('Stat') # generic type for \"summary statistic\"\n",
    "\n",
    "def bootstrap_sample(data: List[X]) -> List[X]:\n",
    "    \"\"\"randomly samples len(data) elements with replacement\"\"\"\n",
    "    return [random.choice(data) for _ in data]\n",
    "\n",
    "def bootstrap_statistic(data: List[X], stats_fn: Callable[[List[X]], Stat], num_samples: int) -> List[Stat]:\n",
    "    \"\"\"evaluates stats_fn on num_samples bootstrap samples from data\"\"\"\n",
    "    return [stats_fn(bootstrap_sample(data)) for _ in range(num_samples)]"
   ]
  },
  {
   "cell_type": "code",
   "execution_count": 12,
   "metadata": {},
   "outputs": [],
   "source": [
    "# 101 points all very close to 100\n",
    "close_to_100 = [99.5 + random.random() for _ in range(101)]\n",
    "\n",
    "# 101 points, 50 of them near 0, 50 of them near 200\n",
    "far_from_100 = (\n",
    "    [99.5 + random.random()] +\n",
    "    [random.random() for _ in range(50)] +\n",
    "    [200 + random.random() for _ in range(50)]\n",
    ")"
   ]
  },
  {
   "cell_type": "code",
   "execution_count": 13,
   "metadata": {},
   "outputs": [
    {
     "data": {
      "text/plain": [
       "(0.028832812995301355, 94.42142291819658)"
      ]
     },
     "execution_count": 13,
     "metadata": {},
     "output_type": "execute_result"
    }
   ],
   "source": [
    "from scratch.statistic import median, standard_deviation\n",
    "\n",
    "medians_close = bootstrap_statistic(close_to_100, median, 100)\n",
    "medians_far = bootstrap_statistic(far_from_100, median, 100)\n",
    "\n",
    "sd_close = standard_deviation(medians_close)\n",
    "sd_far = standard_deviation(medians_far)\n",
    "sd_close, sd_far"
   ]
  },
  {
   "cell_type": "code",
   "execution_count": 14,
   "metadata": {},
   "outputs": [],
   "source": [
    "assert sd_close < 1\n",
    "assert sd_far > 90"
   ]
  },
  {
   "cell_type": "code",
   "execution_count": 15,
   "metadata": {},
   "outputs": [
    {
     "name": "stderr",
     "output_type": "stream",
     "text": [
      "least squares fit: 100%|██████████| 100/100 [00:00<00:00, 7041.20it/s]\n",
      "least squares fit: 100%|██████████| 100/100 [00:00<00:00, 7713.52it/s]\n",
      "least squares fit: 100%|██████████| 100/100 [00:00<00:00, 8159.65it/s]\n",
      "least squares fit: 100%|██████████| 100/100 [00:00<00:00, 7337.45it/s]\n",
      "least squares fit: 100%|██████████| 100/100 [00:00<00:00, 7268.78it/s]\n",
      "least squares fit: 100%|██████████| 100/100 [00:00<00:00, 7028.93it/s]\n",
      "least squares fit: 100%|██████████| 100/100 [00:00<00:00, 7101.65it/s]\n",
      "least squares fit: 100%|██████████| 100/100 [00:00<00:00, 7385.38it/s]\n",
      "least squares fit: 100%|██████████| 100/100 [00:00<00:00, 7699.08it/s]\n",
      "least squares fit: 100%|██████████| 100/100 [00:00<00:00, 8376.88it/s]\n",
      "least squares fit: 100%|██████████| 100/100 [00:00<00:00, 8274.09it/s]\n",
      "least squares fit: 100%|██████████| 100/100 [00:00<00:00, 4278.07it/s]\n",
      "least squares fit: 100%|██████████| 100/100 [00:00<00:00, 5525.95it/s]\n",
      "least squares fit: 100%|██████████| 100/100 [00:00<00:00, 4076.89it/s]\n",
      "least squares fit: 100%|██████████| 100/100 [00:00<00:00, 3410.61it/s]\n",
      "least squares fit: 100%|██████████| 100/100 [00:00<00:00, 6573.42it/s]\n",
      "least squares fit: 100%|██████████| 100/100 [00:00<00:00, 3883.33it/s]\n",
      "least squares fit: 100%|██████████| 100/100 [00:00<00:00, 6063.94it/s]\n",
      "least squares fit: 100%|██████████| 100/100 [00:00<00:00, 7499.87it/s]\n",
      "least squares fit: 100%|██████████| 100/100 [00:00<00:00, 8253.74it/s]\n",
      "least squares fit: 100%|██████████| 100/100 [00:00<00:00, 7977.45it/s]\n",
      "least squares fit: 100%|██████████| 100/100 [00:00<00:00, 8176.35it/s]\n",
      "least squares fit: 100%|██████████| 100/100 [00:00<00:00, 7973.96it/s]\n",
      "least squares fit: 100%|██████████| 100/100 [00:00<00:00, 7571.63it/s]\n",
      "least squares fit: 100%|██████████| 100/100 [00:00<00:00, 8072.49it/s]\n",
      "least squares fit: 100%|██████████| 100/100 [00:00<00:00, 7996.61it/s]\n",
      "least squares fit: 100%|██████████| 100/100 [00:00<00:00, 7524.36it/s]\n",
      "least squares fit: 100%|██████████| 100/100 [00:00<00:00, 8273.77it/s]\n",
      "least squares fit: 100%|██████████| 100/100 [00:00<00:00, 8195.36it/s]\n",
      "least squares fit: 100%|██████████| 100/100 [00:00<00:00, 7922.45it/s]\n",
      "least squares fit: 100%|██████████| 100/100 [00:00<00:00, 8410.98it/s]\n",
      "least squares fit: 100%|██████████| 100/100 [00:00<00:00, 7615.35it/s]\n",
      "least squares fit: 100%|██████████| 100/100 [00:00<00:00, 8432.97it/s]\n",
      "least squares fit: 100%|██████████| 100/100 [00:00<00:00, 7801.76it/s]\n",
      "least squares fit: 100%|██████████| 100/100 [00:00<00:00, 7647.98it/s]\n",
      "least squares fit: 100%|██████████| 100/100 [00:00<00:00, 8177.15it/s]\n",
      "least squares fit: 100%|██████████| 100/100 [00:00<00:00, 7621.02it/s]\n",
      "least squares fit: 100%|██████████| 100/100 [00:00<00:00, 7393.84it/s]\n",
      "least squares fit: 100%|██████████| 100/100 [00:00<00:00, 7610.23it/s]\n",
      "least squares fit: 100%|██████████| 100/100 [00:00<00:00, 8052.34it/s]\n",
      "least squares fit: 100%|██████████| 100/100 [00:00<00:00, 7553.90it/s]\n",
      "least squares fit: 100%|██████████| 100/100 [00:00<00:00, 7542.90it/s]\n",
      "least squares fit: 100%|██████████| 100/100 [00:00<00:00, 8141.28it/s]\n",
      "least squares fit: 100%|██████████| 100/100 [00:00<00:00, 7951.44it/s]\n",
      "least squares fit: 100%|██████████| 100/100 [00:00<00:00, 7714.94it/s]\n",
      "least squares fit: 100%|██████████| 100/100 [00:00<00:00, 7179.69it/s]\n",
      "least squares fit: 100%|██████████| 100/100 [00:00<00:00, 7423.15it/s]\n",
      "least squares fit: 100%|██████████| 100/100 [00:00<00:00, 7390.32it/s]\n",
      "least squares fit: 100%|██████████| 100/100 [00:00<00:00, 7280.77it/s]\n",
      "least squares fit: 100%|██████████| 100/100 [00:00<00:00, 6951.12it/s]\n",
      "least squares fit: 100%|██████████| 100/100 [00:00<00:00, 8182.25it/s]\n",
      "least squares fit: 100%|██████████| 100/100 [00:00<00:00, 8116.70it/s]\n",
      "least squares fit: 100%|██████████| 100/100 [00:00<00:00, 6622.10it/s]\n",
      "least squares fit: 100%|██████████| 100/100 [00:00<00:00, 7338.34it/s]\n",
      "least squares fit: 100%|██████████| 100/100 [00:00<00:00, 6546.75it/s]\n",
      "least squares fit: 100%|██████████| 100/100 [00:00<00:00, 7690.33it/s]\n",
      "least squares fit: 100%|██████████| 100/100 [00:00<00:00, 7912.89it/s]\n",
      "least squares fit: 100%|██████████| 100/100 [00:00<00:00, 7965.94it/s]\n",
      "least squares fit: 100%|██████████| 100/100 [00:00<00:00, 7937.89it/s]\n",
      "least squares fit: 100%|██████████| 100/100 [00:00<00:00, 8233.97it/s]\n",
      "least squares fit: 100%|██████████| 100/100 [00:00<00:00, 7973.96it/s]\n",
      "least squares fit: 100%|██████████| 100/100 [00:00<00:00, 8183.05it/s]\n",
      "least squares fit: 100%|██████████| 100/100 [00:00<00:00, 7985.20it/s]\n",
      "least squares fit: 100%|██████████| 100/100 [00:00<00:00, 7571.49it/s]\n",
      "least squares fit: 100%|██████████| 100/100 [00:00<00:00, 7352.62it/s]\n",
      "least squares fit: 100%|██████████| 100/100 [00:00<00:00, 7805.39it/s]\n",
      "least squares fit: 100%|██████████| 100/100 [00:00<00:00, 7377.45it/s]\n",
      "least squares fit: 100%|██████████| 100/100 [00:00<00:00, 8043.69it/s]\n",
      "least squares fit: 100%|██████████| 100/100 [00:00<00:00, 7869.39it/s]\n",
      "least squares fit: 100%|██████████| 100/100 [00:00<00:00, 7848.62it/s]\n",
      "least squares fit: 100%|██████████| 100/100 [00:00<00:00, 6339.35it/s]\n",
      "least squares fit: 100%|██████████| 100/100 [00:00<00:00, 7599.89it/s]\n",
      "least squares fit: 100%|██████████| 100/100 [00:00<00:00, 7698.23it/s]\n",
      "least squares fit: 100%|██████████| 100/100 [00:00<00:00, 7610.10it/s]\n",
      "least squares fit: 100%|██████████| 100/100 [00:00<00:00, 7840.55it/s]\n",
      "least squares fit: 100%|██████████| 100/100 [00:00<00:00, 8027.84it/s]\n",
      "least squares fit: 100%|██████████| 100/100 [00:00<00:00, 7762.49it/s]\n",
      "least squares fit: 100%|██████████| 100/100 [00:00<00:00, 7247.80it/s]\n",
      "least squares fit: 100%|██████████| 100/100 [00:00<00:00, 7480.21it/s]\n",
      "least squares fit: 100%|██████████| 100/100 [00:00<00:00, 7717.21it/s]\n",
      "least squares fit: 100%|██████████| 100/100 [00:00<00:00, 7931.14it/s]\n",
      "least squares fit: 100%|██████████| 100/100 [00:00<00:00, 8055.28it/s]\n",
      "least squares fit: 100%|██████████| 100/100 [00:00<00:00, 7413.05it/s]\n",
      "least squares fit: 100%|██████████| 100/100 [00:00<00:00, 7897.39it/s]\n",
      "least squares fit: 100%|██████████| 100/100 [00:00<00:00, 7913.63it/s]\n",
      "least squares fit: 100%|██████████| 100/100 [00:00<00:00, 7854.65it/s]\n",
      "least squares fit: 100%|██████████| 100/100 [00:00<00:00, 6707.13it/s]\n",
      "least squares fit: 100%|██████████| 100/100 [00:00<00:00, 7794.22it/s]\n",
      "least squares fit: 100%|██████████| 100/100 [00:00<00:00, 7567.67it/s]\n",
      "least squares fit: 100%|██████████| 100/100 [00:00<00:00, 7720.48it/s]\n",
      "least squares fit: 100%|██████████| 100/100 [00:00<00:00, 7989.91it/s]\n",
      "least squares fit: 100%|██████████| 100/100 [00:00<00:00, 7969.72it/s]\n",
      "least squares fit: 100%|██████████| 100/100 [00:00<00:00, 8359.35it/s]\n",
      "least squares fit: 100%|██████████| 100/100 [00:00<00:00, 7641.15it/s]\n",
      "least squares fit: 100%|██████████| 100/100 [00:00<00:00, 7256.33it/s]\n",
      "least squares fit: 100%|██████████| 100/100 [00:00<00:00, 7662.51it/s]\n",
      "least squares fit: 100%|██████████| 100/100 [00:00<00:00, 8147.76it/s]\n",
      "least squares fit: 100%|██████████| 100/100 [00:00<00:00, 8272.30it/s]\n",
      "least squares fit: 100%|██████████| 100/100 [00:00<00:00, 7136.57it/s]\n",
      "least squares fit: 100%|██████████| 100/100 [00:00<00:00, 8162.51it/s]\n"
     ]
    }
   ],
   "source": [
    "from typing import Tuple\n",
    "\n",
    "def estimate_sample_beta(pairs: List[Tuple[Vector, float]], learning_rate: float = 0.001, num_samples: int = 100, batch_size: int = 25) -> Vector:\n",
    "    x_sample = [x for x, _ in pairs]\n",
    "    y_sample = [y for _, y in pairs]\n",
    "    beta = least_squares_fit(x_sample, y_sample, learning_rate, num_samples, batch_size)\n",
    "    return beta\n",
    "\n",
    "random.seed(0) # so you get the same results as me\n",
    "\n",
    "# this will take a couple of minutes\n",
    "bootstrap_betas = bootstrap_statistic(list(zip(X_train, y_train)), estimate_sample_beta, 100)"
   ]
  },
  {
   "cell_type": "code",
   "execution_count": 16,
   "metadata": {},
   "outputs": [
    {
     "data": {
      "text/plain": [
       "[0.1613755401810467,\n",
       " 0.2091598789925999,\n",
       " 0.1380578803750796,\n",
       " 0.25495919243780263]"
      ]
     },
     "execution_count": 16,
     "metadata": {},
     "output_type": "execute_result"
    }
   ],
   "source": [
    "bootstrap_standard_errors = [\n",
    "    standard_deviation([beta[i] for beta in bootstrap_betas]) \n",
    "    for i in range(4)\n",
    "]\n",
    "bootstrap_standard_errors"
   ]
  },
  {
   "cell_type": "code",
   "execution_count": 17,
   "metadata": {},
   "outputs": [],
   "source": [
    "from scratch.probability import normal_cdf\n",
    "\n",
    "def p_value(beta_hat_j: float, sigma_hat_j: float) -> float:\n",
    "    if beta_hat_j > 0:\n",
    "        # if the coefficient is positive, we need to compute twice the probability of seeing an even *larger* value\n",
    "        return 2 * (1 - normal_cdf(beta_hat_j / sigma_hat_j))\n",
    "    else:\n",
    "        # otherwise twice the probability of seeing a *smaller* value\n",
    "        return 2 * normal_cdf(beta_hat_j / sigma_hat_j)\n",
    "\n",
    "assert p_value(30.58, 1.27)   < 0.001  # constant term\n",
    "assert p_value(0.972, 0.103)  < 0.001  # num_friends\n",
    "assert p_value(-1.865, 0.155) < 0.001  # work_hours\n",
    "assert p_value(0.923, 1.249)  > 0.4    # phd"
   ]
  },
  {
   "cell_type": "code",
   "execution_count": 18,
   "metadata": {},
   "outputs": [],
   "source": [
    "# alpha is a *hyperparameter* controlling how harsh the penalty is.\n",
    "# Sometimes it's called \"lambda\" but that already means something in Python\n",
    "def ridge_penalty(beta: Vector, alpha: float) -> float:\n",
    "    return alpha * dot(beta[1:], beta[1:])\n",
    "\n",
    "def squared_error_ridge(x: Vector, y: float, beta: Vector, alpha: float) -> float:\n",
    "    \"\"\"estimate error plus ridge penalty on beta\"\"\"\n",
    "    return error(x, y, beta) ** 2 + ridge_penalty(beta, alpha)"
   ]
  },
  {
   "cell_type": "code",
   "execution_count": 19,
   "metadata": {},
   "outputs": [],
   "source": [
    "from scratch.linear_algebra import add\n",
    "\n",
    "def ridge_penalty_gradient(beta: Vector, alpha: float) -> Vector:\n",
    "    \"\"\"gradient of just the ridge penalty\"\"\"\n",
    "    return [0.] + [2 * alpha * beta_j for beta_j in beta[1:]]\n",
    "\n",
    "def sqerror_ridge_gradient(x: Vector, y: float, beta: Vector, alpha: float) -> Vector:\n",
    "    \"\"\"the gradient corresponding to the ith squared error term including the ridge penalty\"\"\"\n",
    "    return add(sqerror_gradient(x, y, beta), ridge_penalty_gradient(beta, alpha))"
   ]
  },
  {
   "cell_type": "code",
   "execution_count": 20,
   "metadata": {},
   "outputs": [],
   "source": [
    "def least_squares_fit_ridget(xs: List[Vector], ys: List[float], learning_rate: float = 0.001, num_steps: int = 1000, batch_size: int = 1, alpha: float = 0.0) -> Vector:\n",
    "    # Start with a random guess\n",
    "    guess = [random.random() for _ in xs[0]]\n",
    "    for _ in tqdm.trange(num_steps, desc=\"least squares fit\"):\n",
    "        for start in range(0, len(xs), batch_size):\n",
    "            batch_xs = xs[start:start+batch_size]\n",
    "            batch_ys = ys[start:start+batch_size]\n",
    "\n",
    "            gradient = vector_mean([sqerror_ridge_gradient(x, y, guess, alpha) for x, y in zip(batch_xs, batch_ys)])\n",
    "            guess = gradient_step(guess, gradient, -learning_rate)\n",
    "    return guess"
   ]
  },
  {
   "cell_type": "code",
   "execution_count": 21,
   "metadata": {},
   "outputs": [
    {
     "name": "stderr",
     "output_type": "stream",
     "text": [
      "least squares fit: 100%|██████████| 5000/5000 [00:01<00:00, 4659.55it/s]\n"
     ]
    },
    {
     "data": {
      "text/plain": [
       "[-0.09434208320812382,\n",
       " -0.015662773363378093,\n",
       " 0.24752220388611262,\n",
       " 0.5724968705267163]"
      ]
     },
     "execution_count": 21,
     "metadata": {},
     "output_type": "execute_result"
    }
   ],
   "source": [
    "random.seed(0)\n",
    "beta_0 = least_squares_fit_ridget(\n",
    "    X_train, y_train, alpha=0.0,\n",
    "    learning_rate=learning_rate,\n",
    "    num_steps=5000, batch_size=25)\n",
    "beta_0"
   ]
  },
  {
   "cell_type": "code",
   "execution_count": 22,
   "metadata": {},
   "outputs": [
    {
     "name": "stderr",
     "output_type": "stream",
     "text": [
      "least squares fit: 100%|██████████| 5000/5000 [00:01<00:00, 4667.52it/s]\n",
      "least squares fit: 100%|██████████| 5000/5000 [00:01<00:00, 4297.07it/s]\n",
      "least squares fit: 100%|██████████| 5000/5000 [00:01<00:00, 4674.49it/s]\n"
     ]
    }
   ],
   "source": [
    "beta_0_1 = least_squares_fit_ridget(\n",
    "    X_train, y_train, alpha=0.1,\n",
    "    learning_rate=learning_rate,\n",
    "    num_steps=5000, batch_size=25)\n",
    "\n",
    "beta_1 = least_squares_fit_ridget(\n",
    "    X_train, y_train, alpha=1,\n",
    "    learning_rate=learning_rate,\n",
    "    num_steps=5000, batch_size=25)\n",
    "\n",
    "beta_10 = least_squares_fit_ridget(\n",
    "    X_train, y_train, alpha=10,\n",
    "    learning_rate=learning_rate,\n",
    "    num_steps=5000, batch_size=25)"
   ]
  },
  {
   "cell_type": "code",
   "execution_count": 23,
   "metadata": {},
   "outputs": [
    {
     "data": {
      "image/png": "[encoded data removed]",
      "text/plain": [
       "<Figure size 640x480 with 1 Axes>"
      ]
     },
     "metadata": {},
     "output_type": "display_data"
    }
   ],
   "source": [
    "import matplotlib.pyplot as plt\n",
    "\n",
    "# Define the labels and values\n",
    "labels = ['beta_0', 'beta_0_1', 'beta_1', 'beta_10']\n",
    "beta_values = [beta_0, beta_0_1, beta_1, beta_10]\n",
    "\n",
    "# Create a bar chart\n",
    "x = range(len(labels))\n",
    "fig, ax = plt.subplots()\n",
    "for i, beta in enumerate(beta_values):\n",
    "    ax.bar([p + i * 0.2 for p in x], beta, width=0.2, label=labels[i])\n",
    "\n",
    "# Add labels and title\n",
    "ax.set_xlabel('Beta Index')\n",
    "ax.set_ylabel('Beta Value')\n",
    "ax.set_title('Beta Values Comparison')\n",
    "ax.set_xticks([p + 0.3 for p in x])\n",
    "ax.set_xticklabels(['0', '1', '2', '3'])\n",
    "ax.legend()\n",
    "\n",
    "# Show the plot\n",
    "plt.show()"
   ]
  },
  {
   "cell_type": "code",
   "execution_count": 24,
   "metadata": {},
   "outputs": [],
   "source": [
    "def lasso_penalty(beta, alpha):\n",
    "    return alpha * sum(abs(beta_i) for beta_i in beta[1:])"
   ]
  }
 ],
 "metadata": {
  "kernelspec": {
   "display_name": "data_science_from_scratch_3.12.2",
   "language": "python",
   "name": "python3"
  },
  "language_info": {
   "codemirror_mode": {
    "name": "ipython",
    "version": 3
   },
   "file_extension": ".py",
   "mimetype": "text/x-python",
   "name": "python",
   "nbconvert_exporter": "python",
   "pygments_lexer": "ipython3",
   "version": "3.12.2"
  }
 },
 "nbformat": 4,
 "nbformat_minor": 2
}
